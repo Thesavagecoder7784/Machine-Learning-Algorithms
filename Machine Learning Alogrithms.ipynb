{
 "cells": [
  {
   "cell_type": "markdown",
   "id": "3e3ab754",
   "metadata": {},
   "source": [
    "# Machine Learning Algorithms"
   ]
  },
  {
   "cell_type": "code",
   "execution_count": 1,
   "id": "70347d97",
   "metadata": {},
   "outputs": [],
   "source": [
    "import warnings\n",
    "warnings.filterwarnings(\"ignore\")"
   ]
  },
  {
   "cell_type": "markdown",
   "id": "8463450d",
   "metadata": {},
   "source": [
    "## Linear Regression"
   ]
  },
  {
   "cell_type": "markdown",
   "id": "6e2061aa",
   "metadata": {},
   "source": [
    "Linear Regression is a linear machine learning model that assumes a linear relationship between the input variables (x) and the single output variable (y). It uses this information to predict the value of y based on the value of x."
   ]
  },
  {
   "cell_type": "code",
   "execution_count": 2,
   "id": "84814161",
   "metadata": {},
   "outputs": [],
   "source": [
    "# Required packages\n",
    "from sklearn.linear_model import LinearRegression #Linear regression package\n",
    "from sklearn.model_selection import train_test_split"
   ]
  },
  {
   "cell_type": "code",
   "execution_count": 3,
   "id": "85b5aedd",
   "metadata": {},
   "outputs": [],
   "source": [
    "# Importing a dataset for linear regression\n",
    "from sklearn.datasets import load_boston\n",
    "boston = load_boston()\n",
    "X = boston['data']\n",
    "y = boston['target']\n",
    "# Split the data into training and testing datasets\n",
    "X_train, X_test, y_train, y_test = train_test_split(X, y, test_size = 0.3, random_state = 0)"
   ]
  },
  {
   "cell_type": "code",
   "execution_count": 4,
   "id": "f8ef0529",
   "metadata": {},
   "outputs": [],
   "source": [
    "# Syntax for creating a Linear Regression model\n",
    "\n",
    "# LinearRegression(*, fit_intercept=True, copy_X=True, n_jobs=None, positive=False)\n",
    "\n",
    "# fit_intercept - calculate the y-intercept of the model\n",
    "# copy_X - Changes the value of x entered in the model\n",
    "# positive - forces the coefficients to be positive\n",
    "\n",
    "#Simple model\n",
    "lr = LinearRegression()\n",
    "lr.fit(X_train,y_train)\n",
    "y_pred = lr.predict(X_test)"
   ]
  },
  {
   "cell_type": "code",
   "execution_count": 5,
   "id": "a122e49a",
   "metadata": {},
   "outputs": [
    {
     "name": "stdout",
     "output_type": "stream",
     "text": [
      "Input :  [[6.72400e-02 0.00000e+00 3.24000e+00 ... 1.69000e+01 3.75210e+02\n",
      "  7.34000e+00]\n",
      " [9.23230e+00 0.00000e+00 1.81000e+01 ... 2.02000e+01 3.66150e+02\n",
      "  9.53000e+00]\n",
      " [1.14250e-01 0.00000e+00 1.38900e+01 ... 1.64000e+01 3.93740e+02\n",
      "  1.05000e+01]\n",
      " ...\n",
      " [1.68118e+01 0.00000e+00 1.81000e+01 ... 2.02000e+01 3.96900e+02\n",
      "  3.08100e+01]\n",
      " [4.92980e-01 0.00000e+00 9.90000e+00 ... 1.84000e+01 3.96900e+02\n",
      "  4.54000e+00]\n",
      " [2.98500e-02 0.00000e+00 2.18000e+00 ... 1.87000e+01 3.94120e+02\n",
      "  5.21000e+00]]\n",
      "Expected output :  [22.6 50.  23.   8.3 21.2 19.9 20.6 18.7 16.1 18.6  8.8 17.2 14.9 10.5\n",
      " 50.  29.  23.  33.3 29.4 21.  23.8 19.1 20.4 29.1 19.3 23.1 19.6 19.4\n",
      " 38.7 18.7 14.6 20.  20.5 20.1 23.6 16.8  5.6 50.  14.5 13.3 23.9 20.\n",
      " 19.8 13.8 16.5 21.6 20.3 17.  11.8 27.5 15.6 23.1 24.3 42.8 15.6 21.7\n",
      " 17.1 17.2 15.  21.7 18.6 21.  33.1 31.5 20.1 29.8 15.2 15.  27.5 22.6\n",
      " 20.  21.4 23.5 31.2 23.7  7.4 48.3 24.4 22.6 18.3 23.3 17.1 27.9 44.8\n",
      " 50.  23.  21.4 10.2 23.3 23.2 18.9 13.4 21.9 24.8 11.9 24.3 13.8 24.7\n",
      " 14.1 18.7 28.1 19.8 26.7 21.7 22.  22.9 10.4 21.9 20.6 26.4 41.3 17.2\n",
      " 27.1 20.4 16.5 24.4  8.4 23.   9.7 50.  30.5 12.3 19.4 21.2 20.3 18.8\n",
      " 33.4 18.5 19.6 33.2 13.1  7.5 13.6 17.4  8.4 35.4 24.  13.4 26.2  7.2\n",
      " 13.1 24.5 37.2 25.  24.1 16.6 32.9 36.2 11.   7.2 22.8 28.7]\n",
      "Predicted output :  [24.9357079  23.75163164 29.32638296 11.97534566 21.37272478 19.19148525\n",
      " 20.5717479  21.21154015 19.04572003 20.35463238  5.44119126 16.93688709\n",
      " 17.15482272  5.3928209  40.20270696 32.31327348 22.46213268 36.50124666\n",
      " 31.03737014 23.17124551 24.74815321 24.49939403 20.6595791  30.4547583\n",
      " 22.32487164 10.18932894 17.44286422 18.26103077 35.63299326 20.81960303\n",
      " 18.27218007 17.72047628 19.33772473 23.62254823 28.97766856 19.45036239\n",
      " 11.13170639 24.81843595 18.05294835 15.59712226 26.21043403 20.81140432\n",
      " 22.17349382 15.48367365 22.62261604 24.88561528 19.74754478 23.0465628\n",
      "  9.84579105 24.36378793 21.47849008 17.62118176 24.39160873 29.95102691\n",
      " 13.57219422 21.53645439 20.53306273 15.03433182 14.3232289  22.11929299\n",
      " 17.07321915 21.54141094 32.96766968 31.371599   17.7860591  32.75069556\n",
      " 18.74795323 19.21428022 19.41970047 23.08087809 22.87732816 24.06399098\n",
      " 30.52824406 28.71453508 25.90763165  5.17596718 36.8709072  23.76983849\n",
      " 27.26064379 19.25849042 28.41860517 19.3008798  18.94922353 38.00154059\n",
      " 39.44096748 23.72297885 24.83722534 16.52015743 25.9970546  16.73997072\n",
      " 15.48656983 13.52825536 24.12884363 30.76919578 22.18731163 19.8848644\n",
      "  0.42275479 24.86785849 16.05692    17.42486412 25.49798527 22.35171315\n",
      " 32.66562689 22.04428746 27.29799885 23.20302026  6.86196574 14.869251\n",
      " 22.31804948 29.18125768 33.22568234 13.24392523 19.67195771 20.7502616\n",
      " 12.02271319 23.50067006  5.55662571 19.87634689  9.27059783 44.81787339\n",
      " 30.56017983 12.44394048 17.33192202 21.48313292 23.52664913 20.49877266\n",
      " 35.09161099 13.22639935 20.70321163 35.35582833 19.45050576 13.81603561\n",
      " 14.15654562 23.03678503 15.07521258 30.9662041  25.23236632 15.43763716\n",
      " 24.06406534  9.93080346 15.01618901 21.06098873 32.87115732 27.80927747\n",
      " 25.91293794 15.27877362 30.97489404 27.81107682 14.5068157   7.57369946\n",
      " 28.3348068  25.04341153]\n"
     ]
    }
   ],
   "source": [
    "# Exploring the input & output\n",
    "\n",
    "# Input: A two-dimensional array which contains all the features of the boston housing dataset\n",
    "print(\"Input : \", X_test)\n",
    "\n",
    "# Output: The ouput array is the prediction\n",
    "print(\"Expected output : \", y_test)\n",
    "print(\"Predicted output : \", y_pred)"
   ]
  },
  {
   "cell_type": "code",
   "execution_count": 6,
   "id": "5dd211c7",
   "metadata": {},
   "outputs": [
    {
     "name": "stdout",
     "output_type": "stream",
     "text": [
      "Mean Squared Error: 27.195965766883205\n",
      "Root Mean Squared Error: 5.214975145375403\n",
      "R^2 Score: 0.6733825506400195\n"
     ]
    }
   ],
   "source": [
    "# Calculating the Accuracy\n",
    "# Accuracy of a linear model can't be calculated, the accuracy is predicted using error\n",
    "from sklearn.metrics import mean_squared_error\n",
    "from sklearn.metrics import r2_score\n",
    "\n",
    "# Mean Squared Error\n",
    "print(\"Mean Squared Error:\",mean_squared_error(y_test, y_pred)) # tells you how close a regression line is to a set of points\n",
    "# squaring is necessary to remove any negative signs\n",
    "\n",
    "# Root Mean Squared Error\n",
    "print(\"Root Mean Squared Error:\", mean_squared_error(y_test, y_pred, squared=False))\n",
    "\n",
    "# R2 Score\n",
    "print(\"R^2 Score:\", r2_score(y_test,y_pred)) # correlation between actual and predicted value"
   ]
  },
  {
   "cell_type": "markdown",
   "id": "33d53dfc",
   "metadata": {},
   "source": [
    "## Logistic Regression"
   ]
  },
  {
   "cell_type": "markdown",
   "id": "33dc3168",
   "metadata": {},
   "source": [
    "Logistic regression is used to describe data and to explain the relationship between one dependent binary variable and one or more independent variables. It produced output as 0 or 1."
   ]
  },
  {
   "cell_type": "code",
   "execution_count": 7,
   "id": "cd1515bc",
   "metadata": {},
   "outputs": [],
   "source": [
    "# Required packages\n",
    "from sklearn.linear_model import LogisticRegression #Logistic regression package\n",
    "from sklearn.model_selection import train_test_split"
   ]
  },
  {
   "cell_type": "code",
   "execution_count": 8,
   "id": "cbfe7ead",
   "metadata": {},
   "outputs": [],
   "source": [
    "# Importing a dataset for logistic regression\n",
    "from sklearn.datasets import load_breast_cancer\n",
    "cancer = load_breast_cancer()\n",
    "X = cancer[\"data\"]\n",
    "y = cancer['target']\n",
    "# Split the data into training and testing datasets\n",
    "X_train, X_test, y_train, y_test = train_test_split(X, y, test_size=0.3)"
   ]
  },
  {
   "cell_type": "code",
   "execution_count": 9,
   "id": "88f46c37",
   "metadata": {},
   "outputs": [],
   "source": [
    "# Syntax for creating a Logistic Regression model\n",
    "\n",
    "# LogisticRegression(penalty='l2', *, dual=False, tol=0.0001, C=1.0, fit_intercept=True, \n",
    "# intercept_scaling=1, class_weight=None, random_state=None, solver='lbfgs', max_iter=100, \n",
    "# multi_class='auto', verbose=0, warm_start=False, n_jobs=None, l1_ratio=None)\n",
    "\n",
    "# Link for explanation of terms : https://scikit-learn.org/stable/modules/generated/sklearn.linear_model.LogisticRegression.html\n",
    "\n",
    "# Simple model\n",
    "logreg = LogisticRegression(max_iter=3000) \n",
    "logreg.fit(X_train,y_train)\n",
    "y_pred = logreg.predict(X_test)"
   ]
  },
  {
   "cell_type": "code",
   "execution_count": 10,
   "id": "818db063",
   "metadata": {},
   "outputs": [
    {
     "name": "stdout",
     "output_type": "stream",
     "text": [
      "Input :  [[1.311e+01 2.254e+01 8.702e+01 ... 1.126e-01 4.128e-01 1.076e-01]\n",
      " [1.026e+01 1.658e+01 6.585e+01 ... 8.333e-02 2.691e-01 9.479e-02]\n",
      " [1.381e+01 2.375e+01 9.156e+01 ... 2.013e-01 4.432e-01 1.086e-01]\n",
      " ...\n",
      " [1.760e+01 2.333e+01 1.190e+02 ... 1.996e-01 2.301e-01 1.224e-01]\n",
      " [1.096e+01 1.762e+01 7.079e+01 ... 9.861e-02 2.289e-01 8.278e-02]\n",
      " [1.420e+01 2.053e+01 9.241e+01 ... 1.339e-01 2.534e-01 7.858e-02]]\n",
      "Expected output :  [1 1 0 1 1 1 0 1 0 1 1 1 1 1 0 1 0 0 0 1 1 1 0 1 1 1 0 1 1 0 1 1 1 1 1 0 1\n",
      " 0 0 0 0 0 1 1 0 0 1 1 0 0 1 1 1 0 1 1 1 1 1 0 0 1 1 0 1 1 0 0 1 1 1 1 1 1\n",
      " 1 0 1 0 0 1 1 0 1 1 0 1 0 0 1 1 1 1 1 0 1 1 0 0 0 1 1 1 0 1 1 0 1 0 0 1 0\n",
      " 1 1 0 0 1 1 1 1 1 0 1 1 0 0 1 1 0 0 1 1 1 0 0 1 0 1 1 1 1 1 0 1 0 0 1 1 1\n",
      " 1 1 1 1 0 1 0 0 1 0 0 1 1 0 0 1 1 1 0 1 0 1 1]\n",
      "Predicted output :  [1 1 0 1 1 1 0 1 0 1 1 1 1 1 0 1 0 0 0 1 1 1 0 1 1 1 1 1 1 0 1 1 1 1 1 0 0\n",
      " 0 0 0 0 0 1 1 0 0 1 1 0 0 1 1 1 0 1 1 1 1 1 0 0 1 1 0 1 1 0 0 1 1 1 1 1 0\n",
      " 1 0 1 0 0 1 1 0 1 1 0 1 0 0 1 1 1 1 1 0 1 1 0 0 0 1 1 1 0 1 1 0 1 0 0 0 1\n",
      " 1 1 0 0 1 1 1 1 1 0 1 1 0 0 1 1 0 0 1 0 1 1 0 1 0 1 1 1 1 1 0 1 0 0 1 1 1\n",
      " 1 1 1 1 1 1 0 0 1 0 0 1 1 1 0 1 1 1 0 1 0 1 0]\n"
     ]
    }
   ],
   "source": [
    "# Exploring the input & output\n",
    "\n",
    "# Input: A two-dimensional array which contains all the features of the boston housing dataset\n",
    "print(\"Input : \", X_test)\n",
    "\n",
    "# Output: The ouput array is the prediction\n",
    "print(\"Expected output : \", y_test)\n",
    "print(\"Predicted output : \", y_pred)"
   ]
  },
  {
   "cell_type": "code",
   "execution_count": 11,
   "id": "6b5976ee",
   "metadata": {},
   "outputs": [
    {
     "name": "stdout",
     "output_type": "stream",
     "text": [
      "Test Accuracy Score: 0.9415204678362573\n",
      "Precision: 0.9532710280373832\n",
      "Recall: 0.9532710280373832\n"
     ]
    }
   ],
   "source": [
    "# Calculating the Accuracy\n",
    "# Importing necessary packages\n",
    "from sklearn.metrics import mean_squared_error\n",
    "from sklearn.metrics import precision_score\n",
    "from sklearn.metrics import recall_score\n",
    "\n",
    "# Accuracy\n",
    "print(\"Test Accuracy Score:\", logreg.score(X_test, y_test)) #Predicted correctly/Total values\n",
    "\n",
    "# Precision\n",
    "print(\"Precision:\",precision_score(y_test, y_pred)) #Proportion of positive identifications actually correct\n",
    "\n",
    "# Recall\n",
    "print(\"Recall:\",recall_score(y_test, y_pred)) # Proportion of actual positives was identified correctly"
   ]
  },
  {
   "cell_type": "markdown",
   "id": "fbb4e4a6",
   "metadata": {},
   "source": [
    "## Decision Tree 1 - Iterative Dichotomiser 3"
   ]
  },
  {
   "cell_type": "markdown",
   "id": "6925d85b",
   "metadata": {},
   "source": [
    "A decision tree is a structure that contains nodes (rectangular boxes) and edges(arrows) and is built from a dataset (with rows and columns). Each node is used to make a decision (decision node) or represent an outcome (leaf node)."
   ]
  },
  {
   "cell_type": "code",
   "execution_count": 12,
   "id": "7d70d91f",
   "metadata": {},
   "outputs": [],
   "source": [
    " #Required packages\n",
    "from sklearn.tree import DecisionTreeClassifier # Decision Tree Classifier package\n",
    "from sklearn.model_selection import train_test_split"
   ]
  },
  {
   "cell_type": "code",
   "execution_count": 13,
   "id": "c58d5240",
   "metadata": {},
   "outputs": [],
   "source": [
    "# Importing a dataset for Decision Tree 1 - Iterative Dichotomiser 3\n",
    "from sklearn.datasets import load_iris\n",
    "iris = load_iris()\n",
    "X = iris.data\n",
    "y = iris.target\n",
    "#Split the data into training and testing datasets\n",
    "X_train, X_test, y_train, y_test = train_test_split(X, y, test_size = 0.3)"
   ]
  },
  {
   "cell_type": "code",
   "execution_count": 14,
   "id": "1f16bf57",
   "metadata": {},
   "outputs": [],
   "source": [
    "# Syntax for creating a Decision Tree 1 - Iterative Dichotomiser 3 model\n",
    "\n",
    "# DecisionTreeClassifier(*, criterion='gini', splitter='best', max_depth=None, min_samples_split=2, \n",
    "# min_samples_leaf=1, min_weight_fraction_leaf=0.0, max_features=None, random_state=None, \n",
    "# max_leaf_nodes=None, min_impurity_decrease=0.0, class_weight=None, ccp_alpha=0.0)\n",
    "\n",
    "# Link for explanation of terms : https://scikit-learn.org/stable/modules/generated/sklearn.tree.DecisionTreeClassifier.html\n",
    "\n",
    "#Simple model\n",
    "dtc = DecisionTreeClassifier(criterion='entropy',max_depth=3)\n",
    "dtc.fit(X_train, y_train)\n",
    "y_pred = dtc.predict(X_test)"
   ]
  },
  {
   "cell_type": "code",
   "execution_count": 15,
   "id": "988d11f4",
   "metadata": {},
   "outputs": [
    {
     "name": "stdout",
     "output_type": "stream",
     "text": [
      "Input :  [[6.5 3.2 5.1 2. ]\n",
      " [5.6 2.7 4.2 1.3]\n",
      " [5.6 3.  4.1 1.3]\n",
      " [6.3 2.5 5.  1.9]\n",
      " [5.2 4.1 1.5 0.1]\n",
      " [6.3 2.9 5.6 1.8]\n",
      " [6.1 3.  4.6 1.4]\n",
      " [6.2 2.8 4.8 1.8]\n",
      " [6.2 2.9 4.3 1.3]\n",
      " [6.2 3.4 5.4 2.3]\n",
      " [4.9 3.1 1.5 0.2]\n",
      " [5.4 3.7 1.5 0.2]\n",
      " [5.5 2.6 4.4 1.2]\n",
      " [6.8 3.  5.5 2.1]\n",
      " [6.7 3.3 5.7 2.1]\n",
      " [5.1 3.3 1.7 0.5]\n",
      " [5.  3.3 1.4 0.2]\n",
      " [5.  3.5 1.3 0.3]\n",
      " [5.6 2.5 3.9 1.1]\n",
      " [6.7 3.1 4.7 1.5]\n",
      " [5.4 3.4 1.7 0.2]\n",
      " [6.4 2.7 5.3 1.9]\n",
      " [5.5 2.5 4.  1.3]\n",
      " [5.1 3.8 1.6 0.2]\n",
      " [4.6 3.6 1.  0.2]\n",
      " [5.5 2.3 4.  1.3]\n",
      " [7.2 3.2 6.  1.8]\n",
      " [5.1 2.5 3.  1.1]\n",
      " [7.2 3.  5.8 1.6]\n",
      " [6.  2.9 4.5 1.5]\n",
      " [5.2 3.5 1.5 0.2]\n",
      " [5.6 3.  4.5 1.5]\n",
      " [6.1 2.6 5.6 1.4]\n",
      " [6.  2.2 4.  1. ]\n",
      " [5.9 3.  5.1 1.8]\n",
      " [6.6 3.  4.4 1.4]\n",
      " [6.3 3.4 5.6 2.4]\n",
      " [5.  3.2 1.2 0.2]\n",
      " [6.6 2.9 4.6 1.3]\n",
      " [6.5 2.8 4.6 1.5]\n",
      " [5.9 3.2 4.8 1.8]\n",
      " [4.4 3.  1.3 0.2]\n",
      " [5.1 3.4 1.5 0.2]\n",
      " [7.7 2.6 6.9 2.3]\n",
      " [7.7 3.  6.1 2.3]]\n",
      "Expected output :  [2 1 1 2 0 2 1 2 1 2 0 0 1 2 2 0 0 0 1 1 0 2 1 0 0 1 2 1 2 1 0 1 2 1 2 1 2\n",
      " 0 1 1 1 0 0 2 2]\n",
      "Predicted output :  [2 1 1 2 0 2 1 2 1 2 0 0 1 2 2 0 0 0 1 1 0 2 1 0 0 1 2 1 1 1 0 1 1 1 2 1 2\n",
      " 0 1 1 2 0 0 2 2]\n"
     ]
    }
   ],
   "source": [
    "# Exploring the input & output\n",
    "\n",
    "# Input: A two-dimensional array which contains all the features of the boston housing dataset\n",
    "print(\"Input : \", X_test)\n",
    "\n",
    "# Output: The ouput array is the prediction\n",
    "print(\"Expected output : \", y_test)\n",
    "print(\"Predicted output : \", y_pred)"
   ]
  },
  {
   "cell_type": "code",
   "execution_count": 16,
   "id": "398268bc",
   "metadata": {},
   "outputs": [
    {
     "name": "stdout",
     "output_type": "stream",
     "text": [
      "Test Accuracy Score: 0.9333333333333333\n",
      "Precision: 0.9342151675485009\n",
      "Recall: 0.9333333333333333\n"
     ]
    }
   ],
   "source": [
    "# Calculating the Accuracy\n",
    "# Importing necessary packages\n",
    "from sklearn.metrics import mean_squared_error\n",
    "from sklearn.metrics import precision_score\n",
    "from sklearn.metrics import recall_score\n",
    "\n",
    "# Accuracy\n",
    "print(\"Test Accuracy Score:\", dtc.score(X_test, y_test)) #Predicted correctly/Total values\n",
    "\n",
    "# Precision\n",
    "print(\"Precision:\",precision_score(y_test, y_pred, average='weighted')) #Proportion of positive identifications actually correct\n",
    "\n",
    "# Recall\n",
    "print(\"Recall:\",recall_score(y_test, y_pred, average='weighted')) # Proportion of actual positives was identified correctly"
   ]
  },
  {
   "cell_type": "markdown",
   "id": "57b95083",
   "metadata": {},
   "source": [
    "## Decision Tree - CART (Classification and Regression Tree Algorithm)"
   ]
  },
  {
   "cell_type": "markdown",
   "id": "c772e16b",
   "metadata": {},
   "source": [
    "A classification algorithm for building a decision tree based on Gini's impurity index as splitting criterion"
   ]
  },
  {
   "cell_type": "code",
   "execution_count": 17,
   "id": "6f1fd460",
   "metadata": {},
   "outputs": [],
   "source": [
    "# Required packages\n",
    "from sklearn.tree import DecisionTreeClassifier #Decision Tree Classifier package\n",
    "from sklearn.model_selection import train_test_split"
   ]
  },
  {
   "cell_type": "code",
   "execution_count": 18,
   "id": "140c9237",
   "metadata": {},
   "outputs": [],
   "source": [
    "# Importing a dataset for Decision Tree 2 - CART\n",
    "from sklearn.datasets import load_iris\n",
    "iris = load_iris()\n",
    "X = iris.data\n",
    "y = iris.target\n",
    "#Split the data into training and testing datasets\n",
    "X_train, X_test, y_train, y_test = train_test_split(X, y, test_size = 0.3)"
   ]
  },
  {
   "cell_type": "code",
   "execution_count": 19,
   "id": "248f7335",
   "metadata": {},
   "outputs": [],
   "source": [
    "# Syntax for creating a Decision Tree 1 - Iterative Dichotomiser 3 model\n",
    "\n",
    "# DecisionTreeClassifier(*, criterion='gini', splitter='best', max_depth=None, min_samples_split=2, \n",
    "# min_samples_leaf=1, min_weight_fraction_leaf=0.0, max_features=None, random_state=None, \n",
    "# max_leaf_nodes=None, min_impurity_decrease=0.0, class_weight=None, ccp_alpha=0.0)\n",
    "\n",
    "# Link for explanation of terms : https://scikit-learn.org/stable/modules/generated/sklearn.tree.DecisionTreeClassifier.html\n",
    "\n",
    "#Simple model\n",
    "dtc_gini = DecisionTreeClassifier(criterion='gini',max_depth=3)\n",
    "dtc_gini.fit(X_train, y_train)\n",
    "y_pred = dtc_gini.predict(X_test)"
   ]
  },
  {
   "cell_type": "code",
   "execution_count": 20,
   "id": "5872c4f0",
   "metadata": {},
   "outputs": [
    {
     "name": "stdout",
     "output_type": "stream",
     "text": [
      "Input :  [[6.4 3.2 5.3 2.3]\n",
      " [4.8 3.  1.4 0.1]\n",
      " [6.6 2.9 4.6 1.3]\n",
      " [6.9 3.1 4.9 1.5]\n",
      " [6.5 2.8 4.6 1.5]\n",
      " [6.1 2.6 5.6 1.4]\n",
      " [6.7 3.3 5.7 2.5]\n",
      " [4.6 3.4 1.4 0.3]\n",
      " [6.1 2.8 4.  1.3]\n",
      " [5.1 3.5 1.4 0.3]\n",
      " [6.  3.  4.8 1.8]\n",
      " [4.4 3.  1.3 0.2]\n",
      " [6.3 2.7 4.9 1.8]\n",
      " [6.  2.7 5.1 1.6]\n",
      " [5.9 3.2 4.8 1.8]\n",
      " [4.6 3.6 1.  0.2]\n",
      " [6.4 2.8 5.6 2.1]\n",
      " [4.9 2.5 4.5 1.7]\n",
      " [6.5 3.  5.5 1.8]\n",
      " [4.3 3.  1.1 0.1]\n",
      " [5.5 3.5 1.3 0.2]\n",
      " [5.  3.6 1.4 0.2]\n",
      " [5.1 3.8 1.9 0.4]\n",
      " [5.7 2.8 4.1 1.3]\n",
      " [6.3 2.5 4.9 1.5]\n",
      " [5.7 2.6 3.5 1. ]\n",
      " [6.4 2.7 5.3 1.9]\n",
      " [4.4 2.9 1.4 0.2]\n",
      " [5.2 3.4 1.4 0.2]\n",
      " [6.1 3.  4.6 1.4]\n",
      " [5.6 2.8 4.9 2. ]\n",
      " [6.3 2.3 4.4 1.3]\n",
      " [6.3 3.4 5.6 2.4]\n",
      " [5.3 3.7 1.5 0.2]\n",
      " [6.5 3.  5.8 2.2]\n",
      " [4.7 3.2 1.6 0.2]\n",
      " [5.1 3.7 1.5 0.4]\n",
      " [7.7 2.8 6.7 2. ]\n",
      " [6.3 2.5 5.  1.9]\n",
      " [5.1 3.8 1.6 0.2]\n",
      " [4.9 3.6 1.4 0.1]\n",
      " [5.8 2.6 4.  1.2]\n",
      " [5.6 2.5 3.9 1.1]\n",
      " [5.5 2.4 3.7 1. ]\n",
      " [5.5 2.4 3.8 1.1]]\n",
      "Expected output :  [2 0 1 1 1 2 2 0 1 0 2 0 2 1 1 0 2 2 2 0 0 0 0 1 1 1 2 0 0 1 2 1 2 0 2 0 0\n",
      " 2 2 0 0 1 1 1 1]\n",
      "Predicted output :  [2 0 1 2 1 1 2 0 1 0 2 0 2 2 2 0 2 1 2 0 0 0 0 1 2 1 2 0 0 1 2 1 2 0 2 0 0\n",
      " 2 2 0 0 1 1 1 1]\n"
     ]
    }
   ],
   "source": [
    "# Exploring the input & output\n",
    "\n",
    "# Input: A two-dimensional array which contains all the features of the boston housing dataset\n",
    "print(\"Input : \", X_test)\n",
    "\n",
    "# Output: The ouput array is the prediction\n",
    "print(\"Expected output : \", y_test)\n",
    "print(\"Predicted output : \", y_pred)"
   ]
  },
  {
   "cell_type": "code",
   "execution_count": 21,
   "id": "299b24fd",
   "metadata": {},
   "outputs": [
    {
     "name": "stdout",
     "output_type": "stream",
     "text": [
      "Test Accuracy Score: 0.9333333333333333\n",
      "Precision: 0.870940170940171\n",
      "Recall: 0.8666666666666667\n"
     ]
    }
   ],
   "source": [
    "# Calculating the Accuracy\n",
    "# Importing necessary packages\n",
    "from sklearn.metrics import precision_score\n",
    "from sklearn.metrics import recall_score\n",
    "\n",
    "# Accuracy\n",
    "print(\"Test Accuracy Score:\", dtc.score(X_test, y_test)) #Predicted correctly/Total values\n",
    "\n",
    "# Precision\n",
    "print(\"Precision:\",precision_score(y_test, y_pred, average='weighted')) #Proportion of positive identifications actually correct\n",
    "\n",
    "# Recall\n",
    "print(\"Recall:\",recall_score(y_test, y_pred, average='weighted')) # Proportion of actual positives was identified correctly"
   ]
  },
  {
   "cell_type": "markdown",
   "id": "428bda0a",
   "metadata": {},
   "source": [
    "## Naive Bayes Algorithm"
   ]
  },
  {
   "cell_type": "markdown",
   "id": "dadaa775",
   "metadata": {},
   "source": [
    "### Type 1 - Gaussian Naive Bayes Algorithm "
   ]
  },
  {
   "cell_type": "markdown",
   "id": "ccd3d921",
   "metadata": {},
   "source": [
    "Gaussian Naive Bayes Algorithm is used when the features have continuous values, when the features are following a gaussian distribution i.e, normal distribution"
   ]
  },
  {
   "cell_type": "code",
   "execution_count": 22,
   "id": "07ea4691",
   "metadata": {},
   "outputs": [],
   "source": [
    "# Required packages\n",
    "from sklearn.model_selection import train_test_split\n",
    "from sklearn.naive_bayes import GaussianNB # Gaussian Baive Bayes Package"
   ]
  },
  {
   "cell_type": "code",
   "execution_count": 23,
   "id": "47fbb843",
   "metadata": {},
   "outputs": [],
   "source": [
    "# Importing a dataset for Naive Bayes Algorithm\n",
    "from sklearn.datasets import load_iris\n",
    "iris = load_iris()\n",
    "X = iris.data\n",
    "y = iris.target\n",
    "# Split the data into training and testing datasets\n",
    "X_train, X_test, y_train, y_test = train_test_split(X, y, test_size = 0.3)"
   ]
  },
  {
   "cell_type": "code",
   "execution_count": 24,
   "id": "ba991857",
   "metadata": {},
   "outputs": [],
   "source": [
    "#Syntax for creating a Naive Bayes Algorithm\n",
    "\n",
    "#GaussianNB(*, priors=None, var_smoothing=1e-09)\n",
    "\n",
    "#Link for explanation of the model: https://scikit-learn.org/stable/modules/generated/sklearn.naive_bayes.GaussianNB.html\n",
    "\n",
    "#Simple model\n",
    "gnb = GaussianNB()\n",
    "gnb.fit(X_train, y_train)\n",
    "y_pred = gnb.predict(X_test)"
   ]
  },
  {
   "cell_type": "code",
   "execution_count": 25,
   "id": "09fc1e01",
   "metadata": {},
   "outputs": [
    {
     "name": "stdout",
     "output_type": "stream",
     "text": [
      "Input :  [[5.1 3.8 1.6 0.2]\n",
      " [6.1 2.9 4.7 1.4]\n",
      " [5.3 3.7 1.5 0.2]\n",
      " [6.1 3.  4.9 1.8]\n",
      " [7.7 2.6 6.9 2.3]\n",
      " [5.6 2.9 3.6 1.3]\n",
      " [6.  3.4 4.5 1.6]\n",
      " [6.4 3.2 5.3 2.3]\n",
      " [6.7 3.3 5.7 2.1]\n",
      " [4.4 3.2 1.3 0.2]\n",
      " [5.8 2.7 5.1 1.9]\n",
      " [5.4 3.  4.5 1.5]\n",
      " [5.2 3.5 1.5 0.2]\n",
      " [5.5 2.5 4.  1.3]\n",
      " [7.9 3.8 6.4 2. ]\n",
      " [7.1 3.  5.9 2.1]\n",
      " [6.8 2.8 4.8 1.4]\n",
      " [7.7 3.  6.1 2.3]\n",
      " [6.7 3.  5.  1.7]\n",
      " [6.7 3.1 4.7 1.5]\n",
      " [5.  3.  1.6 0.2]\n",
      " [5.6 3.  4.5 1.5]\n",
      " [4.7 3.2 1.6 0.2]\n",
      " [5.  3.5 1.6 0.6]\n",
      " [4.8 3.4 1.9 0.2]\n",
      " [6.2 2.9 4.3 1.3]\n",
      " [4.6 3.2 1.4 0.2]\n",
      " [5.8 4.  1.2 0.2]\n",
      " [5.  2.3 3.3 1. ]\n",
      " [4.9 2.4 3.3 1. ]\n",
      " [4.9 2.5 4.5 1.7]\n",
      " [6.8 3.  5.5 2.1]\n",
      " [6.4 2.8 5.6 2.1]\n",
      " [6.3 2.5 5.  1.9]\n",
      " [5.  3.2 1.2 0.2]\n",
      " [6.7 2.5 5.8 1.8]\n",
      " [6.5 3.  5.2 2. ]\n",
      " [6.9 3.1 5.1 2.3]\n",
      " [4.4 3.  1.3 0.2]\n",
      " [6.9 3.1 4.9 1.5]\n",
      " [4.8 3.1 1.6 0.2]\n",
      " [4.6 3.1 1.5 0.2]\n",
      " [5.4 3.9 1.7 0.4]\n",
      " [6.1 2.8 4.7 1.2]\n",
      " [6.3 3.3 4.7 1.6]]\n",
      "Expected output :  [0 1 0 2 2 1 1 2 2 0 2 1 0 1 2 2 1 2 1 1 0 1 0 0 0 1 0 0 1 1 2 2 2 2 0 2 2\n",
      " 2 0 1 0 0 0 1 1]\n",
      "Predicted output :  [0 1 0 2 2 1 1 2 2 0 2 1 0 1 2 2 1 2 2 1 0 1 0 0 0 1 0 0 1 1 1 2 2 2 0 2 2\n",
      " 2 0 2 0 0 0 1 2]\n"
     ]
    }
   ],
   "source": [
    "# Exploring the input & output\n",
    "\n",
    "# Input: A two-dimensional array which contains all the features of the boston housing dataset\n",
    "print(\"Input : \", X_test)\n",
    "\n",
    "# Output: The ouput array is the prediction\n",
    "print(\"Expected output : \", y_test)\n",
    "print(\"Predicted output : \", y_pred)"
   ]
  },
  {
   "cell_type": "code",
   "execution_count": 26,
   "id": "aaab4860",
   "metadata": {},
   "outputs": [
    {
     "name": "stdout",
     "output_type": "stream",
     "text": [
      "Test Accuracy Score: 0.9111111111111111\n",
      "Precision: 0.9155354449472096\n",
      "Recall: 0.9111111111111111\n"
     ]
    }
   ],
   "source": [
    "# Calculating the Accuracy\n",
    "# Importing necessary packages\n",
    "from sklearn.metrics import mean_squared_error\n",
    "from sklearn.metrics import r2_score\n",
    "from sklearn.metrics import precision_score\n",
    "from sklearn.metrics import recall_score\n",
    "\n",
    "# Accuracy\n",
    "print(\"Test Accuracy Score:\", gnb.score(X_test, y_test)) #Predicted correctly/Total values\n",
    "\n",
    "# Precision\n",
    "print(\"Precision:\",precision_score(y_test, y_pred, average='weighted')) #Proportion of positive identifications actually correct\n",
    "\n",
    "# Recall\n",
    "print(\"Recall:\",recall_score(y_test, y_pred, average='weighted')) # Proportion of actual positives was identified correctly"
   ]
  },
  {
   "cell_type": "markdown",
   "id": "d8ad89d0",
   "metadata": {},
   "source": [
    "## KMeans Clustering algorithm"
   ]
  },
  {
   "cell_type": "markdown",
   "id": "0c8d767f",
   "metadata": {},
   "source": [
    "The K-means clustering algorithm computes centroids and repeats until the optimal centroid is found"
   ]
  },
  {
   "cell_type": "code",
   "execution_count": 27,
   "id": "73fc169a",
   "metadata": {},
   "outputs": [],
   "source": [
    "# Required packages\n",
    "import pandas as pd\n",
    "import seaborn as sns\n",
    "import numpy as np\n",
    "import matplotlib.pyplot as plt \n",
    "from sklearn.cluster import KMeans\n",
    "from sklearn.model_selection import train_test_split"
   ]
  },
  {
   "cell_type": "code",
   "execution_count": 28,
   "id": "d927e1b8",
   "metadata": {},
   "outputs": [
    {
     "data": {
      "text/html": [
       "<div>\n",
       "<style scoped>\n",
       "    .dataframe tbody tr th:only-of-type {\n",
       "        vertical-align: middle;\n",
       "    }\n",
       "\n",
       "    .dataframe tbody tr th {\n",
       "        vertical-align: top;\n",
       "    }\n",
       "\n",
       "    .dataframe thead th {\n",
       "        text-align: right;\n",
       "    }\n",
       "</style>\n",
       "<table border=\"1\" class=\"dataframe\">\n",
       "  <thead>\n",
       "    <tr style=\"text-align: right;\">\n",
       "      <th></th>\n",
       "      <th>species</th>\n",
       "      <th>island</th>\n",
       "      <th>bill_length_mm</th>\n",
       "      <th>bill_depth_mm</th>\n",
       "      <th>flipper_length_mm</th>\n",
       "      <th>body_mass_g</th>\n",
       "      <th>sex</th>\n",
       "    </tr>\n",
       "  </thead>\n",
       "  <tbody>\n",
       "    <tr>\n",
       "      <th>0</th>\n",
       "      <td>Adelie</td>\n",
       "      <td>Torgersen</td>\n",
       "      <td>39.1</td>\n",
       "      <td>18.7</td>\n",
       "      <td>181.0</td>\n",
       "      <td>3750.0</td>\n",
       "      <td>Male</td>\n",
       "    </tr>\n",
       "    <tr>\n",
       "      <th>1</th>\n",
       "      <td>Adelie</td>\n",
       "      <td>Torgersen</td>\n",
       "      <td>39.5</td>\n",
       "      <td>17.4</td>\n",
       "      <td>186.0</td>\n",
       "      <td>3800.0</td>\n",
       "      <td>Female</td>\n",
       "    </tr>\n",
       "    <tr>\n",
       "      <th>2</th>\n",
       "      <td>Adelie</td>\n",
       "      <td>Torgersen</td>\n",
       "      <td>40.3</td>\n",
       "      <td>18.0</td>\n",
       "      <td>195.0</td>\n",
       "      <td>3250.0</td>\n",
       "      <td>Female</td>\n",
       "    </tr>\n",
       "    <tr>\n",
       "      <th>4</th>\n",
       "      <td>Adelie</td>\n",
       "      <td>Torgersen</td>\n",
       "      <td>36.7</td>\n",
       "      <td>19.3</td>\n",
       "      <td>193.0</td>\n",
       "      <td>3450.0</td>\n",
       "      <td>Female</td>\n",
       "    </tr>\n",
       "    <tr>\n",
       "      <th>5</th>\n",
       "      <td>Adelie</td>\n",
       "      <td>Torgersen</td>\n",
       "      <td>39.3</td>\n",
       "      <td>20.6</td>\n",
       "      <td>190.0</td>\n",
       "      <td>3650.0</td>\n",
       "      <td>Male</td>\n",
       "    </tr>\n",
       "  </tbody>\n",
       "</table>\n",
       "</div>"
      ],
      "text/plain": [
       "  species     island  bill_length_mm  bill_depth_mm  flipper_length_mm  \\\n",
       "0  Adelie  Torgersen            39.1           18.7              181.0   \n",
       "1  Adelie  Torgersen            39.5           17.4              186.0   \n",
       "2  Adelie  Torgersen            40.3           18.0              195.0   \n",
       "4  Adelie  Torgersen            36.7           19.3              193.0   \n",
       "5  Adelie  Torgersen            39.3           20.6              190.0   \n",
       "\n",
       "   body_mass_g     sex  \n",
       "0       3750.0    Male  \n",
       "1       3800.0  Female  \n",
       "2       3250.0  Female  \n",
       "4       3450.0  Female  \n",
       "5       3650.0    Male  "
      ]
     },
     "execution_count": 28,
     "metadata": {},
     "output_type": "execute_result"
    }
   ],
   "source": [
    "# Upload your data as a csv file and load it as a data frame \n",
    "df = pd.read_csv('penguins.csv').dropna()\n",
    "df.head()"
   ]
  },
  {
   "cell_type": "code",
   "execution_count": 29,
   "id": "b6d37ad8",
   "metadata": {},
   "outputs": [
    {
     "data": {
      "image/png": "[encoded data removed]",
      "text/plain": [
       "<Figure size 432x288 with 1 Axes>"
      ]
     },
     "metadata": {
      "needs_background": "light"
     },
     "output_type": "display_data"
    }
   ],
   "source": [
    "# Using the elbow method to find out the optimal number of KMeans clusters\n",
    "X = np.array(df.loc[:,['bill_length_mm','bill_depth_mm']]).reshape(-1, 2)\n",
    "\n",
    "# Determine optimal cluster number with elbow method\n",
    "wcss = []\n",
    "\n",
    "for i in range(1, 11):\n",
    "    model = KMeans(n_clusters = i,init = 'k-means++',max_iter = 300,n_init = 10,random_state = 0)\n",
    "    model.fit(X)                              \n",
    "    wcss.append(model.inertia_)\n",
    "    \n",
    "# Show Elbow plot\n",
    "plt.plot(range(1, 11), wcss)\n",
    "plt.title('Elbow Method')                              \n",
    "plt.xlabel('Number of clusters')                      \n",
    "plt.ylabel('Within Cluster Sum of Squares (WCSS)')      \n",
    "plt.show()"
   ]
  },
  {
   "cell_type": "code",
   "execution_count": 30,
   "id": "5b147877",
   "metadata": {},
   "outputs": [],
   "source": [
    "# Syntax for creating a KMeans Clustering Algorithm\n",
    "\n",
    "# KMeans(n_clusters=8, *, init='k-means++', n_init=10, max_iter=300, tol=0.0001, verbose=0, random_state=None, \n",
    "# copy_x=True, algorithm='lloyd')\n",
    "\n",
    "# n_clusters - amount of clusters\n",
    "# max_iter - maximum number of iteration\n",
    "# n_init - How often algorithm will run with different centroid\n",
    "# random_state - Choose random state for reproducibility\n",
    "\n",
    "# Link for explanation of the model: https://scikit-learn.org/stable/modules/generated/sklearn.cluster.KMeans.html\n",
    "\n",
    "# Simple model\n",
    "kmeans = KMeans(n_clusters = 3,max_iter = 300,n_init = 10,random_state = 0)    \n",
    "y_pred = kmeans.fit_predict(X)"
   ]
  },
  {
   "cell_type": "code",
   "execution_count": 31,
   "id": "ab8046b6",
   "metadata": {},
   "outputs": [
    {
     "name": "stdout",
     "output_type": "stream",
     "text": [
      "Input :  [[39.1 18.7]\n",
      " [39.5 17.4]\n",
      " [40.3 18. ]\n",
      " [36.7 19.3]\n",
      " [39.3 20.6]\n",
      " [38.9 17.8]\n",
      " [39.2 19.6]\n",
      " [41.1 17.6]\n",
      " [38.6 21.2]\n",
      " [34.6 21.1]\n",
      " [36.6 17.8]\n",
      " [38.7 19. ]\n",
      " [42.5 20.7]\n",
      " [34.4 18.4]\n",
      " [46.  21.5]\n",
      " [37.8 18.3]\n",
      " [37.7 18.7]\n",
      " [35.9 19.2]\n",
      " [38.2 18.1]\n",
      " [38.8 17.2]\n",
      " [35.3 18.9]\n",
      " [40.6 18.6]\n",
      " [40.5 17.9]\n",
      " [37.9 18.6]\n",
      " [40.5 18.9]\n",
      " [39.5 16.7]\n",
      " [37.2 18.1]\n",
      " [39.5 17.8]\n",
      " [40.9 18.9]\n",
      " [36.4 17. ]\n",
      " [39.2 21.1]\n",
      " [38.8 20. ]\n",
      " [42.2 18.5]\n",
      " [37.6 19.3]\n",
      " [39.8 19.1]\n",
      " [36.5 18. ]\n",
      " [40.8 18.4]\n",
      " [36.  18.5]\n",
      " [44.1 19.7]\n",
      " [37.  16.9]\n",
      " [39.6 18.8]\n",
      " [41.1 19. ]\n",
      " [36.  17.9]\n",
      " [42.3 21.2]\n",
      " [39.6 17.7]\n",
      " [40.1 18.9]\n",
      " [35.  17.9]\n",
      " [42.  19.5]\n",
      " [34.5 18.1]\n",
      " [41.4 18.6]\n",
      " [39.  17.5]\n",
      " [40.6 18.8]\n",
      " [36.5 16.6]\n",
      " [37.6 19.1]\n",
      " [35.7 16.9]\n",
      " [41.3 21.1]\n",
      " [37.6 17. ]\n",
      " [41.1 18.2]\n",
      " [36.4 17.1]\n",
      " [41.6 18. ]\n",
      " [35.5 16.2]\n",
      " [41.1 19.1]\n",
      " [35.9 16.6]\n",
      " [41.8 19.4]\n",
      " [33.5 19. ]\n",
      " [39.7 18.4]\n",
      " [39.6 17.2]\n",
      " [45.8 18.9]\n",
      " [35.5 17.5]\n",
      " [42.8 18.5]\n",
      " [40.9 16.8]\n",
      " [37.2 19.4]\n",
      " [36.2 16.1]\n",
      " [42.1 19.1]\n",
      " [34.6 17.2]\n",
      " [42.9 17.6]\n",
      " [36.7 18.8]\n",
      " [35.1 19.4]\n",
      " [37.3 17.8]\n",
      " [41.3 20.3]\n",
      " [36.3 19.5]\n",
      " [36.9 18.6]\n",
      " [38.3 19.2]\n",
      " [38.9 18.8]\n",
      " [35.7 18. ]\n",
      " [41.1 18.1]\n",
      " [34.  17.1]\n",
      " [39.6 18.1]\n",
      " [36.2 17.3]\n",
      " [40.8 18.9]\n",
      " [38.1 18.6]\n",
      " [40.3 18.5]\n",
      " [33.1 16.1]\n",
      " [43.2 18.5]\n",
      " [35.  17.9]\n",
      " [41.  20. ]\n",
      " [37.7 16. ]\n",
      " [37.8 20. ]\n",
      " [37.9 18.6]\n",
      " [39.7 18.9]\n",
      " [38.6 17.2]\n",
      " [38.2 20. ]\n",
      " [38.1 17. ]\n",
      " [43.2 19. ]\n",
      " [38.1 16.5]\n",
      " [45.6 20.3]\n",
      " [39.7 17.7]\n",
      " [42.2 19.5]\n",
      " [39.6 20.7]\n",
      " [42.7 18.3]\n",
      " [38.6 17. ]\n",
      " [37.3 20.5]\n",
      " [35.7 17. ]\n",
      " [41.1 18.6]\n",
      " [36.2 17.2]\n",
      " [37.7 19.8]\n",
      " [40.2 17. ]\n",
      " [41.4 18.5]\n",
      " [35.2 15.9]\n",
      " [40.6 19. ]\n",
      " [38.8 17.6]\n",
      " [41.5 18.3]\n",
      " [39.  17.1]\n",
      " [44.1 18. ]\n",
      " [38.5 17.9]\n",
      " [43.1 19.2]\n",
      " [36.8 18.5]\n",
      " [37.5 18.5]\n",
      " [38.1 17.6]\n",
      " [41.1 17.5]\n",
      " [35.6 17.5]\n",
      " [40.2 20.1]\n",
      " [37.  16.5]\n",
      " [39.7 17.9]\n",
      " [40.2 17.1]\n",
      " [40.6 17.2]\n",
      " [32.1 15.5]\n",
      " [40.7 17. ]\n",
      " [37.3 16.8]\n",
      " [39.  18.7]\n",
      " [39.2 18.6]\n",
      " [36.6 18.4]\n",
      " [36.  17.8]\n",
      " [37.8 18.1]\n",
      " [36.  17.1]\n",
      " [41.5 18.5]\n",
      " [46.5 17.9]\n",
      " [50.  19.5]\n",
      " [51.3 19.2]\n",
      " [45.4 18.7]\n",
      " [52.7 19.8]\n",
      " [45.2 17.8]\n",
      " [46.1 18.2]\n",
      " [51.3 18.2]\n",
      " [46.  18.9]\n",
      " [51.3 19.9]\n",
      " [46.6 17.8]\n",
      " [51.7 20.3]\n",
      " [47.  17.3]\n",
      " [52.  18.1]\n",
      " [45.9 17.1]\n",
      " [50.5 19.6]\n",
      " [50.3 20. ]\n",
      " [58.  17.8]\n",
      " [46.4 18.6]\n",
      " [49.2 18.2]\n",
      " [42.4 17.3]\n",
      " [48.5 17.5]\n",
      " [43.2 16.6]\n",
      " [50.6 19.4]\n",
      " [46.7 17.9]\n",
      " [52.  19. ]\n",
      " [50.5 18.4]\n",
      " [49.5 19. ]\n",
      " [46.4 17.8]\n",
      " [52.8 20. ]\n",
      " [40.9 16.6]\n",
      " [54.2 20.8]\n",
      " [42.5 16.7]\n",
      " [51.  18.8]\n",
      " [49.7 18.6]\n",
      " [47.5 16.8]\n",
      " [47.6 18.3]\n",
      " [52.  20.7]\n",
      " [46.9 16.6]\n",
      " [53.5 19.9]\n",
      " [49.  19.5]\n",
      " [46.2 17.5]\n",
      " [50.9 19.1]\n",
      " [45.5 17. ]\n",
      " [50.9 17.9]\n",
      " [50.8 18.5]\n",
      " [50.1 17.9]\n",
      " [49.  19.6]\n",
      " [51.5 18.7]\n",
      " [49.8 17.3]\n",
      " [48.1 16.4]\n",
      " [51.4 19. ]\n",
      " [45.7 17.3]\n",
      " [50.7 19.7]\n",
      " [42.5 17.3]\n",
      " [52.2 18.8]\n",
      " [45.2 16.6]\n",
      " [49.3 19.9]\n",
      " [50.2 18.8]\n",
      " [45.6 19.4]\n",
      " [51.9 19.5]\n",
      " [46.8 16.5]\n",
      " [45.7 17. ]\n",
      " [55.8 19.8]\n",
      " [43.5 18.1]\n",
      " [49.6 18.2]\n",
      " [50.8 19. ]\n",
      " [50.2 18.7]\n",
      " [46.1 13.2]\n",
      " [50.  16.3]\n",
      " [48.7 14.1]\n",
      " [50.  15.2]\n",
      " [47.6 14.5]\n",
      " [46.5 13.5]\n",
      " [45.4 14.6]\n",
      " [46.7 15.3]\n",
      " [43.3 13.4]\n",
      " [46.8 15.4]\n",
      " [40.9 13.7]\n",
      " [49.  16.1]\n",
      " [45.5 13.7]\n",
      " [48.4 14.6]\n",
      " [45.8 14.6]\n",
      " [49.3 15.7]\n",
      " [42.  13.5]\n",
      " [49.2 15.2]\n",
      " [46.2 14.5]\n",
      " [48.7 15.1]\n",
      " [50.2 14.3]\n",
      " [45.1 14.5]\n",
      " [46.5 14.5]\n",
      " [46.3 15.8]\n",
      " [42.9 13.1]\n",
      " [46.1 15.1]\n",
      " [47.8 15. ]\n",
      " [48.2 14.3]\n",
      " [50.  15.3]\n",
      " [47.3 15.3]\n",
      " [42.8 14.2]\n",
      " [45.1 14.5]\n",
      " [59.6 17. ]\n",
      " [49.1 14.8]\n",
      " [48.4 16.3]\n",
      " [42.6 13.7]\n",
      " [44.4 17.3]\n",
      " [44.  13.6]\n",
      " [48.7 15.7]\n",
      " [42.7 13.7]\n",
      " [49.6 16. ]\n",
      " [45.3 13.7]\n",
      " [49.6 15. ]\n",
      " [50.5 15.9]\n",
      " [43.6 13.9]\n",
      " [45.5 13.9]\n",
      " [50.5 15.9]\n",
      " [44.9 13.3]\n",
      " [45.2 15.8]\n",
      " [46.6 14.2]\n",
      " [48.5 14.1]\n",
      " [45.1 14.4]\n",
      " [50.1 15. ]\n",
      " [46.5 14.4]\n",
      " [45.  15.4]\n",
      " [43.8 13.9]\n",
      " [45.5 15. ]\n",
      " [43.2 14.5]\n",
      " [50.4 15.3]\n",
      " [45.3 13.8]\n",
      " [46.2 14.9]\n",
      " [45.7 13.9]\n",
      " [54.3 15.7]\n",
      " [45.8 14.2]\n",
      " [49.8 16.8]\n",
      " [49.5 16.2]\n",
      " [43.5 14.2]\n",
      " [50.7 15. ]\n",
      " [47.7 15. ]\n",
      " [46.4 15.6]\n",
      " [48.2 15.6]\n",
      " [46.5 14.8]\n",
      " [46.4 15. ]\n",
      " [48.6 16. ]\n",
      " [47.5 14.2]\n",
      " [51.1 16.3]\n",
      " [45.2 13.8]\n",
      " [45.2 16.4]\n",
      " [49.1 14.5]\n",
      " [52.5 15.6]\n",
      " [47.4 14.6]\n",
      " [50.  15.9]\n",
      " [44.9 13.8]\n",
      " [50.8 17.3]\n",
      " [43.4 14.4]\n",
      " [51.3 14.2]\n",
      " [47.5 14. ]\n",
      " [52.1 17. ]\n",
      " [47.5 15. ]\n",
      " [52.2 17.1]\n",
      " [45.5 14.5]\n",
      " [49.5 16.1]\n",
      " [44.5 14.7]\n",
      " [50.8 15.7]\n",
      " [49.4 15.8]\n",
      " [46.9 14.6]\n",
      " [48.4 14.4]\n",
      " [51.1 16.5]\n",
      " [48.5 15. ]\n",
      " [55.9 17. ]\n",
      " [47.2 15.5]\n",
      " [49.1 15. ]\n",
      " [46.8 16.1]\n",
      " [41.7 14.7]\n",
      " [53.4 15.8]\n",
      " [43.3 14. ]\n",
      " [48.1 15.1]\n",
      " [50.5 15.2]\n",
      " [49.8 15.9]\n",
      " [43.5 15.2]\n",
      " [51.5 16.3]\n",
      " [46.2 14.1]\n",
      " [55.1 16. ]\n",
      " [48.8 16.2]\n",
      " [47.2 13.7]\n",
      " [46.8 14.3]\n",
      " [50.4 15.7]\n",
      " [45.2 14.8]\n",
      " [49.9 16.1]]\n",
      "Class of output :  [1 1 1 1 1 1 1 1 1 1 1 1 1 1 2 1 1 1 1 1 1 1 1 1 1 1 1 1 1 1 1 1 1 1 1 1 1\n",
      " 1 2 1 1 1 1 1 1 1 1 1 1 1 1 1 1 1 1 1 1 1 1 1 1 1 1 1 1 1 1 2 1 2 1 1 1 1\n",
      " 1 2 1 1 1 1 1 1 1 1 1 1 1 1 1 1 1 1 1 2 1 1 1 1 1 1 1 1 1 2 1 2 1 1 1 2 1\n",
      " 1 1 1 1 1 1 1 1 1 1 1 1 2 1 2 1 1 1 1 1 1 1 1 1 1 1 1 1 1 1 1 1 1 1 1 2 0\n",
      " 0 2 0 2 2 0 2 0 2 0 2 0 2 0 0 0 2 0 2 0 2 0 2 0 0 0 2 0 1 0 2 0 0 2 2 0 2\n",
      " 0 0 2 0 2 0 0 0 0 0 0 2 0 2 0 2 0 2 0 0 2 0 2 2 0 2 0 0 0 2 0 2 0 2 2 2 2\n",
      " 2 2 2 0 2 2 2 0 2 0 2 0 0 2 2 2 2 2 2 2 0 2 2 2 0 0 0 2 2 2 0 2 0 2 0 0 2\n",
      " 2 0 2 2 2 2 2 0 2 2 2 2 2 0 2 2 2 0 2 0 0 2 0 2 2 2 2 2 0 2 0 2 2 0 0 2 0\n",
      " 2 0 2 0 2 0 2 0 2 0 2 0 0 2 2 0 2 0 2 0 2 2 0 2 2 0 0 2 0 2 0 0 2 2 0 2 0]\n"
     ]
    }
   ],
   "source": [
    "# Exploring the input & output\n",
    "\n",
    "# Input: A two-dimensional array which contains all the features of the boston housing dataset\n",
    "print(\"Input : \", X)\n",
    "\n",
    "# Output: The ouput array is the prediction\n",
    "print(\"Class of output : \", y_pred)"
   ]
  },
  {
   "cell_type": "code",
   "execution_count": 32,
   "id": "2d806a08",
   "metadata": {},
   "outputs": [
    {
     "data": {
      "image/png": "[encoded data removed]",
      "text/plain": [
       "<Figure size 1296x504 with 1 Axes>"
      ]
     },
     "metadata": {
      "needs_background": "light"
     },
     "output_type": "display_data"
    },
    {
     "data": {
      "image/png": "[encoded data removed]",
      "text/plain": [
       "<Figure size 1296x504 with 1 Axes>"
      ]
     },
     "metadata": {
      "needs_background": "light"
     },
     "output_type": "display_data"
    },
    {
     "data": {
      "image/png": "[encoded data removed]",
      "text/plain": [
       "<Figure size 1296x504 with 1 Axes>"
      ]
     },
     "metadata": {
      "needs_background": "light"
     },
     "output_type": "display_data"
    }
   ],
   "source": [
    "#Evaluate the KMeans model using silhouette samples\n",
    "from sklearn.metrics import silhouette_samples\n",
    "for i, k in enumerate([2, 3, 4]):\n",
    "    fig, ax1 = plt.subplots(1)\n",
    "    fig.set_size_inches(18, 7)\n",
    "    \n",
    "    # Run the Kmeans algorithm\n",
    "    km = KMeans(n_clusters=k)\n",
    "    labels = km.fit_predict(X_train)\n",
    "    centroids = km.cluster_centers_\n",
    "\n",
    "    # Get silhouette samples\n",
    "    silhouette_vals = silhouette_samples(X_train, labels)\n",
    "\n",
    "    # Silhouette plot\n",
    "    y_ticks = []\n",
    "    y_lower, y_upper = 0, 0\n",
    "    for i, cluster in enumerate(np.unique(labels)):\n",
    "        cluster_silhouette_vals = silhouette_vals[labels == cluster]\n",
    "        cluster_silhouette_vals.sort()\n",
    "        y_upper += len(cluster_silhouette_vals)\n",
    "        ax1.barh(range(y_lower, y_upper), cluster_silhouette_vals, edgecolor='none', height=1)\n",
    "        ax1.text(-0.03, (y_lower + y_upper) / 2, str(i + 1))\n",
    "        y_lower += len(cluster_silhouette_vals)\n",
    "\n",
    "    # Get the average silhouette score and plot it\n",
    "    avg_score = np.mean(silhouette_vals)\n",
    "    ax1.axvline(avg_score, linestyle='--', linewidth=2, color='green')\n",
    "    ax1.set_yticks([])\n",
    "    ax1.set_xlim([-0.1, 1])\n",
    "    ax1.set_xlabel('Silhouette coefficient values')\n",
    "    ax1.set_ylabel('Cluster labels')\n",
    "    ax1.set_title('Silhouette plot for the various clusters', y=1.02);\n",
    "    plt.suptitle(f'Silhouette analysis using k = {k}',fontsize=16, fontweight='semibold', y=1.05);"
   ]
  },
  {
   "cell_type": "markdown",
   "id": "e1715728",
   "metadata": {},
   "source": [
    "## K-Nearest Neighbours Classifier (KNN)"
   ]
  },
  {
   "cell_type": "markdown",
   "id": "7b5b7c7e",
   "metadata": {},
   "source": [
    "K-Nearest Neighbours works by finding the distances between a query and all the examples in the data, selecting the specified number examples (K) closest to the query, then votes for the most frequent label (in the case of classification) or averages the labels (in the case of regression)"
   ]
  },
  {
   "cell_type": "code",
   "execution_count": 33,
   "id": "8ff3635b",
   "metadata": {},
   "outputs": [],
   "source": [
    "# Required packages\n",
    "from sklearn.neighbors import KNeighborsClassifier # K-Nearest Neighbours Package\n",
    "from sklearn.model_selection import train_test_split"
   ]
  },
  {
   "cell_type": "code",
   "execution_count": 34,
   "id": "656edc5a",
   "metadata": {},
   "outputs": [],
   "source": [
    "# Importing a dataset for Naive Bayes Algorithm\n",
    "from sklearn.datasets import load_wine\n",
    "wine = load_wine()\n",
    "X = wine.data\n",
    "y = wine.target\n",
    "# Split the data into training and testing datasets\n",
    "X_train, X_test, y_train, y_test = train_test_split(X, y, test_size = 0.2)"
   ]
  },
  {
   "cell_type": "code",
   "execution_count": 35,
   "id": "2eb84663",
   "metadata": {},
   "outputs": [
    {
     "name": "stdout",
     "output_type": "stream",
     "text": [
      "1\n",
      "accuracy=  0.7222222222222222\n",
      "2\n",
      "accuracy=  0.6666666666666666\n",
      "3\n",
      "accuracy=  0.6388888888888888\n",
      "4\n",
      "accuracy=  0.5555555555555556\n",
      "5\n",
      "accuracy=  0.6111111111111112\n",
      "6\n",
      "accuracy=  0.6388888888888888\n",
      "7\n",
      "accuracy=  0.6111111111111112\n",
      "8\n",
      "accuracy=  0.6111111111111112\n",
      "9\n",
      "accuracy=  0.6111111111111112\n",
      "10\n",
      "accuracy=  0.6111111111111112\n",
      "11\n",
      "accuracy=  0.6111111111111112\n",
      "12\n",
      "accuracy=  0.6388888888888888\n",
      "13\n",
      "accuracy=  0.6388888888888888\n",
      "14\n",
      "accuracy=  0.6388888888888888\n",
      "15\n",
      "accuracy=  0.6388888888888888\n",
      "16\n",
      "accuracy=  0.6388888888888888\n",
      "17\n",
      "accuracy=  0.6111111111111112\n",
      "18\n",
      "accuracy=  0.6944444444444444\n",
      "19\n",
      "accuracy=  0.6388888888888888\n",
      "20\n",
      "accuracy=  0.6666666666666666\n"
     ]
    }
   ],
   "source": [
    "# Syntax for creating a KNN Classifier model\n",
    "\n",
    "# KNeighborsClassifier(n_neighbors=5, *, weights='uniform', algorithm='auto', leaf_size=30, p=2,\n",
    "# metric='minkowski', metric_params=None, n_jobs=None)\n",
    "\n",
    "# Link for explanation : https://scikit-learn.org/stable/modules/generated/sklearn.neighbors.KNeighborsClassifier.html\n",
    "\n",
    "# Simple model\n",
    "from sklearn.metrics import accuracy_score\n",
    "for i in range(1,21):\n",
    "    knn = KNeighborsClassifier(n_neighbors=i)\n",
    "    knn.fit(X_train,y_train)\n",
    "    y_pred = knn.predict(X_test)\n",
    "    print(i)\n",
    "    print(\"accuracy= \",accuracy_score(y_test,y_pred))"
   ]
  },
  {
   "cell_type": "code",
   "execution_count": 36,
   "id": "da02da0c",
   "metadata": {},
   "outputs": [
    {
     "name": "stdout",
     "output_type": "stream",
     "text": [
      "accuracy=  0.6388888888888888\n"
     ]
    }
   ],
   "source": [
    "# Creating a KNN model based on the number of neighbors with the highest accuracy\n",
    "knn = KNeighborsClassifier(n_neighbors=3)\n",
    "knn.fit(X_train,y_train)\n",
    "y_pred = knn.predict(X_test)\n",
    "print(\"accuracy= \",accuracy_score(y_test,y_pred))"
   ]
  },
  {
   "cell_type": "code",
   "execution_count": 37,
   "id": "52ccadba",
   "metadata": {},
   "outputs": [
    {
     "name": "stdout",
     "output_type": "stream",
     "text": [
      "Input :  [[1.200e+01 1.510e+00 2.420e+00 2.200e+01 8.600e+01 1.450e+00 1.250e+00\n",
      "  5.000e-01 1.630e+00 3.600e+00 1.050e+00 2.650e+00 4.500e+02]\n",
      " [1.184e+01 8.900e-01 2.580e+00 1.800e+01 9.400e+01 2.200e+00 2.210e+00\n",
      "  2.200e-01 2.350e+00 3.050e+00 7.900e-01 3.080e+00 5.200e+02]\n",
      " [1.293e+01 3.800e+00 2.650e+00 1.860e+01 1.020e+02 2.410e+00 2.410e+00\n",
      "  2.500e-01 1.980e+00 4.500e+00 1.030e+00 3.520e+00 7.700e+02]\n",
      " [1.287e+01 4.610e+00 2.480e+00 2.150e+01 8.600e+01 1.700e+00 6.500e-01\n",
      "  4.700e-01 8.600e-01 7.650e+00 5.400e-01 1.860e+00 6.250e+02]\n",
      " [1.285e+01 1.600e+00 2.520e+00 1.780e+01 9.500e+01 2.480e+00 2.370e+00\n",
      "  2.600e-01 1.460e+00 3.930e+00 1.090e+00 3.630e+00 1.015e+03]\n",
      " [1.296e+01 3.450e+00 2.350e+00 1.850e+01 1.060e+02 1.390e+00 7.000e-01\n",
      "  4.000e-01 9.400e-01 5.280e+00 6.800e-01 1.750e+00 6.750e+02]\n",
      " [1.184e+01 2.890e+00 2.230e+00 1.800e+01 1.120e+02 1.720e+00 1.320e+00\n",
      "  4.300e-01 9.500e-01 2.650e+00 9.600e-01 2.520e+00 5.000e+02]\n",
      " [1.340e+01 4.600e+00 2.860e+00 2.500e+01 1.120e+02 1.980e+00 9.600e-01\n",
      "  2.700e-01 1.110e+00 8.500e+00 6.700e-01 1.920e+00 6.300e+02]\n",
      " [1.413e+01 4.100e+00 2.740e+00 2.450e+01 9.600e+01 2.050e+00 7.600e-01\n",
      "  5.600e-01 1.350e+00 9.200e+00 6.100e-01 1.600e+00 5.600e+02]\n",
      " [1.251e+01 1.240e+00 2.250e+00 1.750e+01 8.500e+01 2.000e+00 5.800e-01\n",
      "  6.000e-01 1.250e+00 5.450e+00 7.500e-01 1.510e+00 6.500e+02]\n",
      " [1.324e+01 2.590e+00 2.870e+00 2.100e+01 1.180e+02 2.800e+00 2.690e+00\n",
      "  3.900e-01 1.820e+00 4.320e+00 1.040e+00 2.930e+00 7.350e+02]\n",
      " [1.247e+01 1.520e+00 2.200e+00 1.900e+01 1.620e+02 2.500e+00 2.270e+00\n",
      "  3.200e-01 3.280e+00 2.600e+00 1.160e+00 2.630e+00 9.370e+02]\n",
      " [1.320e+01 1.780e+00 2.140e+00 1.120e+01 1.000e+02 2.650e+00 2.760e+00\n",
      "  2.600e-01 1.280e+00 4.380e+00 1.050e+00 3.400e+00 1.050e+03]\n",
      " [1.165e+01 1.670e+00 2.620e+00 2.600e+01 8.800e+01 1.920e+00 1.610e+00\n",
      "  4.000e-01 1.340e+00 2.600e+00 1.360e+00 3.210e+00 5.620e+02]\n",
      " [1.237e+01 1.630e+00 2.300e+00 2.450e+01 8.800e+01 2.220e+00 2.450e+00\n",
      "  4.000e-01 1.900e+00 2.120e+00 8.900e-01 2.780e+00 3.420e+02]\n",
      " [1.282e+01 3.370e+00 2.300e+00 1.950e+01 8.800e+01 1.480e+00 6.600e-01\n",
      "  4.000e-01 9.700e-01 1.026e+01 7.200e-01 1.750e+00 6.850e+02]\n",
      " [1.423e+01 1.710e+00 2.430e+00 1.560e+01 1.270e+02 2.800e+00 3.060e+00\n",
      "  2.800e-01 2.290e+00 5.640e+00 1.040e+00 3.920e+00 1.065e+03]\n",
      " [1.242e+01 4.430e+00 2.730e+00 2.650e+01 1.020e+02 2.200e+00 2.130e+00\n",
      "  4.300e-01 1.710e+00 2.080e+00 9.200e-01 3.120e+00 3.650e+02]\n",
      " [1.264e+01 1.360e+00 2.020e+00 1.680e+01 1.000e+02 2.020e+00 1.410e+00\n",
      "  5.300e-01 6.200e-01 5.750e+00 9.800e-01 1.590e+00 4.500e+02]\n",
      " [1.179e+01 2.130e+00 2.780e+00 2.850e+01 9.200e+01 2.130e+00 2.240e+00\n",
      "  5.800e-01 1.760e+00 3.000e+00 9.700e-01 2.440e+00 4.660e+02]\n",
      " [1.216e+01 1.610e+00 2.310e+00 2.280e+01 9.000e+01 1.780e+00 1.690e+00\n",
      "  4.300e-01 1.560e+00 2.450e+00 1.330e+00 2.260e+00 4.950e+02]\n",
      " [1.336e+01 2.560e+00 2.350e+00 2.000e+01 8.900e+01 1.400e+00 5.000e-01\n",
      "  3.700e-01 6.400e-01 5.600e+00 7.000e-01 2.470e+00 7.800e+02]\n",
      " [1.176e+01 2.680e+00 2.920e+00 2.000e+01 1.030e+02 1.750e+00 2.030e+00\n",
      "  6.000e-01 1.050e+00 3.800e+00 1.230e+00 2.500e+00 6.070e+02]\n",
      " [1.145e+01 2.400e+00 2.420e+00 2.000e+01 9.600e+01 2.900e+00 2.790e+00\n",
      "  3.200e-01 1.830e+00 3.250e+00 8.000e-01 3.390e+00 6.250e+02]\n",
      " [1.434e+01 1.680e+00 2.700e+00 2.500e+01 9.800e+01 2.800e+00 1.310e+00\n",
      "  5.300e-01 2.700e+00 1.300e+01 5.700e-01 1.960e+00 6.600e+02]\n",
      " [1.372e+01 1.430e+00 2.500e+00 1.670e+01 1.080e+02 3.400e+00 3.670e+00\n",
      "  1.900e-01 2.040e+00 6.800e+00 8.900e-01 2.870e+00 1.285e+03]\n",
      " [1.348e+01 1.810e+00 2.410e+00 2.050e+01 1.000e+02 2.700e+00 2.980e+00\n",
      "  2.600e-01 1.860e+00 5.100e+00 1.040e+00 3.470e+00 9.200e+02]\n",
      " [1.369e+01 3.260e+00 2.540e+00 2.000e+01 1.070e+02 1.830e+00 5.600e-01\n",
      "  5.000e-01 8.000e-01 5.880e+00 9.600e-01 1.820e+00 6.800e+02]\n",
      " [1.187e+01 4.310e+00 2.390e+00 2.100e+01 8.200e+01 2.860e+00 3.030e+00\n",
      "  2.100e-01 2.910e+00 2.800e+00 7.500e-01 3.640e+00 3.800e+02]\n",
      " [1.200e+01 3.430e+00 2.000e+00 1.900e+01 8.700e+01 2.000e+00 1.640e+00\n",
      "  3.700e-01 1.870e+00 1.280e+00 9.300e-01 3.050e+00 5.640e+02]\n",
      " [1.394e+01 1.730e+00 2.270e+00 1.740e+01 1.080e+02 2.880e+00 3.540e+00\n",
      "  3.200e-01 2.080e+00 8.900e+00 1.120e+00 3.100e+00 1.260e+03]\n",
      " [1.229e+01 2.830e+00 2.220e+00 1.800e+01 8.800e+01 2.450e+00 2.250e+00\n",
      "  2.500e-01 1.990e+00 2.150e+00 1.150e+00 3.300e+00 2.900e+02]\n",
      " [1.162e+01 1.990e+00 2.280e+00 1.800e+01 9.800e+01 3.020e+00 2.260e+00\n",
      "  1.700e-01 1.350e+00 3.250e+00 1.160e+00 2.960e+00 3.450e+02]\n",
      " [1.252e+01 2.430e+00 2.170e+00 2.100e+01 8.800e+01 2.550e+00 2.270e+00\n",
      "  2.600e-01 1.220e+00 2.000e+00 9.000e-01 2.780e+00 3.250e+02]\n",
      " [1.305e+01 2.050e+00 3.220e+00 2.500e+01 1.240e+02 2.630e+00 2.680e+00\n",
      "  4.700e-01 1.920e+00 3.580e+00 1.130e+00 3.200e+00 8.300e+02]\n",
      " [1.307e+01 1.500e+00 2.100e+00 1.550e+01 9.800e+01 2.400e+00 2.640e+00\n",
      "  2.800e-01 1.370e+00 3.700e+00 1.180e+00 2.690e+00 1.020e+03]]\n",
      "Expected output :  [1 1 0 2 0 2 1 2 2 2 0 1 0 1 1 2 0 1 1 1 1 2 1 1 2 0 0 2 1 1 0 1 1 1 0 0]\n",
      "Predicted output :  [1 2 2 2 0 1 2 2 2 2 2 0 0 2 1 1 0 1 1 1 1 2 2 2 2 0 0 1 1 2 0 1 1 1 2 0]\n"
     ]
    }
   ],
   "source": [
    "# Exploring the input & output\n",
    "\n",
    "# Input: A two-dimensional array which contains all the features of the wine dataset\n",
    "print(\"Input : \", X_test)\n",
    "\n",
    "# Output: The ouput array is the prediction\n",
    "print(\"Expected output : \", y_test)\n",
    "print(\"Predicted output : \", y_pred)"
   ]
  },
  {
   "cell_type": "code",
   "execution_count": 38,
   "id": "aaf584ec",
   "metadata": {},
   "outputs": [
    {
     "name": "stdout",
     "output_type": "stream",
     "text": [
      "Test Accuracy Score: 0.6388888888888888\n",
      "Precision: 0.706303418803419\n",
      "Recall: 0.6388888888888888\n"
     ]
    }
   ],
   "source": [
    "# Calculating the Accuracy\n",
    "# Importing necessary packages\n",
    "from sklearn.metrics import mean_squared_error\n",
    "from sklearn.metrics import r2_score\n",
    "from sklearn.metrics import precision_score\n",
    "from sklearn.metrics import recall_score\n",
    "\n",
    "# Accuracy\n",
    "print(\"Test Accuracy Score:\", knn.score(X_test, y_test)) # Predicted correctly/Total values\n",
    "\n",
    "# Precision\n",
    "print(\"Precision:\",precision_score(y_test, y_pred, average='weighted')) # Proportion of positive identifications actually correct\n",
    "\n",
    "# Recall\n",
    "print(\"Recall:\",recall_score(y_test, y_pred, average='weighted')) # Proportion of actual positives was identified correctly"
   ]
  },
  {
   "cell_type": "markdown",
   "id": "9235e35a",
   "metadata": {},
   "source": [
    "## Support Vector Classifier (SVC)"
   ]
  },
  {
   "cell_type": "markdown",
   "id": "09aae5d1",
   "metadata": {},
   "source": [
    "Support vector machines (SVMs) are powerful yet flexible supervised machine learning methods used for classification, regression, and, outliers' detection."
   ]
  },
  {
   "cell_type": "markdown",
   "id": "20ea7209",
   "metadata": {},
   "source": [
    "SVC fits the data provided, returning a \"best fit\" hyperplane that divides, or categorizes the data. "
   ]
  },
  {
   "cell_type": "code",
   "execution_count": 39,
   "id": "1ad4b611",
   "metadata": {},
   "outputs": [],
   "source": [
    "# Required packages\n",
    "from sklearn.svm import SVC\n",
    "from sklearn.model_selection import train_test_split"
   ]
  },
  {
   "cell_type": "code",
   "execution_count": 40,
   "id": "7e8f0946",
   "metadata": {},
   "outputs": [],
   "source": [
    "# Importing a dataset for Support Vector Classifier Algorithm\n",
    "from sklearn.datasets import load_breast_cancer\n",
    "breast_cancer = load_breast_cancer()\n",
    "X = breast_cancer.data\n",
    "y = breast_cancer.target\n",
    "# Split the data into training and testing datasets\n",
    "X_train, X_test, y_train, y_test = train_test_split(X, y, test_size = 0.2)"
   ]
  },
  {
   "cell_type": "code",
   "execution_count": 41,
   "id": "414b1f65",
   "metadata": {},
   "outputs": [],
   "source": [
    "# Syntax for creating a Support Vector Classifier model:\n",
    "\n",
    "\n",
    "# SVC(*, C=1.0, kernel='rbf', degree=3, gamma='scale', coef0=0.0, shrinking=True, probability=False, tol=0.001, \n",
    "# cache_size=200, class_weight=None, verbose=False, max_iter=- 1, decision_function_shape='ovr', break_ties=False,\n",
    "# random_state=None)\n",
    "\n",
    "# Link for explanation of terms : https://scikit-learn.org/stable/modules/generated/sklearn.svm.SVC.html\n",
    "\n",
    "# A simple model:\n",
    "svc = SVC()\n",
    "svc.fit(X_train, y_train)\n",
    "y_pred = svc.predict(X_test)"
   ]
  },
  {
   "cell_type": "code",
   "execution_count": 42,
   "id": "5a1128b2",
   "metadata": {},
   "outputs": [
    {
     "name": "stdout",
     "output_type": "stream",
     "text": [
      "Input :  [[1.808e+01 2.184e+01 1.174e+02 ... 9.181e-02 2.369e-01 6.558e-02]\n",
      " [1.624e+01 1.877e+01 1.088e+02 ... 1.732e-01 2.770e-01 1.063e-01]\n",
      " [1.940e+01 2.350e+01 1.291e+02 ... 1.564e-01 2.920e-01 7.614e-02]\n",
      " ...\n",
      " [1.727e+01 2.542e+01 1.124e+02 ... 1.739e-01 2.500e-01 7.944e-02]\n",
      " [1.626e+01 2.188e+01 1.075e+02 ... 1.047e-01 2.736e-01 7.953e-02]\n",
      " [1.185e+01 1.746e+01 7.554e+01 ... 9.140e-02 3.101e-01 7.007e-02]]\n",
      "Expected output :  [0 0 0 1 0 1 1 1 0 0 0 1 1 1 1 1 1 1 1 0 0 1 1 1 0 0 1 1 1 1 0 1 0 0 1 1 1\n",
      " 0 1 0 1 1 1 0 1 1 0 0 0 0 1 0 0 1 1 1 1 1 0 0 0 1 1 0 0 1 0 1 1 1 1 1 1 0\n",
      " 0 1 1 1 1 0 1 0 1 1 1 1 1 1 1 0 1 1 1 0 0 1 0 1 1 1 1 1 1 1 0 1 0 1 1 0 1\n",
      " 0 0 1]\n",
      "Predicted output :  [0 0 0 1 0 1 1 1 0 0 1 1 1 1 1 1 1 1 1 0 0 1 1 1 0 0 1 1 1 1 0 1 0 0 1 1 1\n",
      " 0 1 0 1 1 1 0 1 1 0 0 0 0 1 0 0 1 1 1 1 0 0 0 0 1 1 0 0 1 1 1 1 1 1 1 1 0\n",
      " 1 1 1 1 1 1 1 0 1 1 1 1 1 1 1 0 1 1 1 0 0 1 0 1 1 1 1 1 1 1 0 1 0 1 1 0 1\n",
      " 0 0 1]\n"
     ]
    }
   ],
   "source": [
    "# Exploring the input & output\n",
    "\n",
    "# Input: A two-dimensional array which contains all the features of the breast cancer dataset\n",
    "print(\"Input : \", X_test)\n",
    "\n",
    "# Output: The ouput array is the prediction\n",
    "print(\"Expected output : \", y_test)\n",
    "print(\"Predicted output : \", y_pred)"
   ]
  },
  {
   "cell_type": "code",
   "execution_count": 43,
   "id": "32997078",
   "metadata": {},
   "outputs": [
    {
     "name": "stdout",
     "output_type": "stream",
     "text": [
      "Test Accuracy Score: 0.956140350877193\n",
      "Precision: 0.9568690958164642\n",
      "Recall: 0.956140350877193\n"
     ]
    }
   ],
   "source": [
    "# Calculating the Accuracy\n",
    "# Importing necessary packages\n",
    "from sklearn.metrics import mean_squared_error\n",
    "from sklearn.metrics import precision_score\n",
    "from sklearn.metrics import recall_score\n",
    "\n",
    "# Accuracy\n",
    "print(\"Test Accuracy Score:\", svc.score(X_test, y_test)) # Predicted correctly/Total values\n",
    "\n",
    "# Precision\n",
    "print(\"Precision:\",precision_score(y_test, y_pred, average='weighted')) # Proportion of positive identifications actually correct\n",
    "\n",
    "# Recall\n",
    "print(\"Recall:\",recall_score(y_test, y_pred, average='weighted')) # Proportion of actual positives was identified correctly"
   ]
  },
  {
   "cell_type": "markdown",
   "id": "528985ac",
   "metadata": {},
   "source": [
    "## Principal Component Analysis (PCA)"
   ]
  },
  {
   "cell_type": "markdown",
   "id": "10981ddb",
   "metadata": {},
   "source": [
    "Principal Component Analysis (PCA) is an unsupervised machine learning algorithm which can be used as a linear dimensionality reduction technique that can be utilized for extracting information from a high-dimensional space by projecting it into a lower-dimensional sub-space.\n",
    "\n",
    "PCA can't be used for prediction itself but can be used to reduce the dimensions in the training data to fit in for some algorithms such as KMeans etc."
   ]
  },
  {
   "cell_type": "code",
   "execution_count": 44,
   "id": "9381cdca",
   "metadata": {},
   "outputs": [],
   "source": [
    "# Required packages\n",
    "from sklearn.decomposition import PCA\n",
    "from sklearn.model_selection import train_test_split"
   ]
  },
  {
   "cell_type": "code",
   "execution_count": 45,
   "id": "215e3e5f",
   "metadata": {},
   "outputs": [],
   "source": [
    "# Importing a dataset for Principal Component Analysis\n",
    "from sklearn.datasets import load_iris\n",
    "iris = load_iris()\n",
    "X = iris.data\n",
    "y = iris.target\n",
    "# Split the data into training and testing datasets\n",
    "X_train, X_test, y_train, y_test = train_test_split(X, y, test_size = 0.3)"
   ]
  },
  {
   "cell_type": "code",
   "execution_count": 46,
   "id": "fa9bc6ca",
   "metadata": {},
   "outputs": [
    {
     "data": {
      "text/plain": [
       "array([[5.1, 3.5, 1.4, 0.2],\n",
       "       [4.9, 3. , 1.4, 0.2],\n",
       "       [4.7, 3.2, 1.3, 0.2],\n",
       "       [4.6, 3.1, 1.5, 0.2],\n",
       "       [5. , 3.6, 1.4, 0.2],\n",
       "       [5.4, 3.9, 1.7, 0.4],\n",
       "       [4.6, 3.4, 1.4, 0.3],\n",
       "       [5. , 3.4, 1.5, 0.2],\n",
       "       [4.4, 2.9, 1.4, 0.2],\n",
       "       [4.9, 3.1, 1.5, 0.1],\n",
       "       [5.4, 3.7, 1.5, 0.2],\n",
       "       [4.8, 3.4, 1.6, 0.2],\n",
       "       [4.8, 3. , 1.4, 0.1],\n",
       "       [4.3, 3. , 1.1, 0.1],\n",
       "       [5.8, 4. , 1.2, 0.2],\n",
       "       [5.7, 4.4, 1.5, 0.4],\n",
       "       [5.4, 3.9, 1.3, 0.4],\n",
       "       [5.1, 3.5, 1.4, 0.3],\n",
       "       [5.7, 3.8, 1.7, 0.3],\n",
       "       [5.1, 3.8, 1.5, 0.3],\n",
       "       [5.4, 3.4, 1.7, 0.2],\n",
       "       [5.1, 3.7, 1.5, 0.4],\n",
       "       [4.6, 3.6, 1. , 0.2],\n",
       "       [5.1, 3.3, 1.7, 0.5],\n",
       "       [4.8, 3.4, 1.9, 0.2],\n",
       "       [5. , 3. , 1.6, 0.2],\n",
       "       [5. , 3.4, 1.6, 0.4],\n",
       "       [5.2, 3.5, 1.5, 0.2],\n",
       "       [5.2, 3.4, 1.4, 0.2],\n",
       "       [4.7, 3.2, 1.6, 0.2],\n",
       "       [4.8, 3.1, 1.6, 0.2],\n",
       "       [5.4, 3.4, 1.5, 0.4],\n",
       "       [5.2, 4.1, 1.5, 0.1],\n",
       "       [5.5, 4.2, 1.4, 0.2],\n",
       "       [4.9, 3.1, 1.5, 0.2],\n",
       "       [5. , 3.2, 1.2, 0.2],\n",
       "       [5.5, 3.5, 1.3, 0.2],\n",
       "       [4.9, 3.6, 1.4, 0.1],\n",
       "       [4.4, 3. , 1.3, 0.2],\n",
       "       [5.1, 3.4, 1.5, 0.2],\n",
       "       [5. , 3.5, 1.3, 0.3],\n",
       "       [4.5, 2.3, 1.3, 0.3],\n",
       "       [4.4, 3.2, 1.3, 0.2],\n",
       "       [5. , 3.5, 1.6, 0.6],\n",
       "       [5.1, 3.8, 1.9, 0.4],\n",
       "       [4.8, 3. , 1.4, 0.3],\n",
       "       [5.1, 3.8, 1.6, 0.2],\n",
       "       [4.6, 3.2, 1.4, 0.2],\n",
       "       [5.3, 3.7, 1.5, 0.2],\n",
       "       [5. , 3.3, 1.4, 0.2],\n",
       "       [7. , 3.2, 4.7, 1.4],\n",
       "       [6.4, 3.2, 4.5, 1.5],\n",
       "       [6.9, 3.1, 4.9, 1.5],\n",
       "       [5.5, 2.3, 4. , 1.3],\n",
       "       [6.5, 2.8, 4.6, 1.5],\n",
       "       [5.7, 2.8, 4.5, 1.3],\n",
       "       [6.3, 3.3, 4.7, 1.6],\n",
       "       [4.9, 2.4, 3.3, 1. ],\n",
       "       [6.6, 2.9, 4.6, 1.3],\n",
       "       [5.2, 2.7, 3.9, 1.4],\n",
       "       [5. , 2. , 3.5, 1. ],\n",
       "       [5.9, 3. , 4.2, 1.5],\n",
       "       [6. , 2.2, 4. , 1. ],\n",
       "       [6.1, 2.9, 4.7, 1.4],\n",
       "       [5.6, 2.9, 3.6, 1.3],\n",
       "       [6.7, 3.1, 4.4, 1.4],\n",
       "       [5.6, 3. , 4.5, 1.5],\n",
       "       [5.8, 2.7, 4.1, 1. ],\n",
       "       [6.2, 2.2, 4.5, 1.5],\n",
       "       [5.6, 2.5, 3.9, 1.1],\n",
       "       [5.9, 3.2, 4.8, 1.8],\n",
       "       [6.1, 2.8, 4. , 1.3],\n",
       "       [6.3, 2.5, 4.9, 1.5],\n",
       "       [6.1, 2.8, 4.7, 1.2],\n",
       "       [6.4, 2.9, 4.3, 1.3],\n",
       "       [6.6, 3. , 4.4, 1.4],\n",
       "       [6.8, 2.8, 4.8, 1.4],\n",
       "       [6.7, 3. , 5. , 1.7],\n",
       "       [6. , 2.9, 4.5, 1.5],\n",
       "       [5.7, 2.6, 3.5, 1. ],\n",
       "       [5.5, 2.4, 3.8, 1.1],\n",
       "       [5.5, 2.4, 3.7, 1. ],\n",
       "       [5.8, 2.7, 3.9, 1.2],\n",
       "       [6. , 2.7, 5.1, 1.6],\n",
       "       [5.4, 3. , 4.5, 1.5],\n",
       "       [6. , 3.4, 4.5, 1.6],\n",
       "       [6.7, 3.1, 4.7, 1.5],\n",
       "       [6.3, 2.3, 4.4, 1.3],\n",
       "       [5.6, 3. , 4.1, 1.3],\n",
       "       [5.5, 2.5, 4. , 1.3],\n",
       "       [5.5, 2.6, 4.4, 1.2],\n",
       "       [6.1, 3. , 4.6, 1.4],\n",
       "       [5.8, 2.6, 4. , 1.2],\n",
       "       [5. , 2.3, 3.3, 1. ],\n",
       "       [5.6, 2.7, 4.2, 1.3],\n",
       "       [5.7, 3. , 4.2, 1.2],\n",
       "       [5.7, 2.9, 4.2, 1.3],\n",
       "       [6.2, 2.9, 4.3, 1.3],\n",
       "       [5.1, 2.5, 3. , 1.1],\n",
       "       [5.7, 2.8, 4.1, 1.3],\n",
       "       [6.3, 3.3, 6. , 2.5],\n",
       "       [5.8, 2.7, 5.1, 1.9],\n",
       "       [7.1, 3. , 5.9, 2.1],\n",
       "       [6.3, 2.9, 5.6, 1.8],\n",
       "       [6.5, 3. , 5.8, 2.2],\n",
       "       [7.6, 3. , 6.6, 2.1],\n",
       "       [4.9, 2.5, 4.5, 1.7],\n",
       "       [7.3, 2.9, 6.3, 1.8],\n",
       "       [6.7, 2.5, 5.8, 1.8],\n",
       "       [7.2, 3.6, 6.1, 2.5],\n",
       "       [6.5, 3.2, 5.1, 2. ],\n",
       "       [6.4, 2.7, 5.3, 1.9],\n",
       "       [6.8, 3. , 5.5, 2.1],\n",
       "       [5.7, 2.5, 5. , 2. ],\n",
       "       [5.8, 2.8, 5.1, 2.4],\n",
       "       [6.4, 3.2, 5.3, 2.3],\n",
       "       [6.5, 3. , 5.5, 1.8],\n",
       "       [7.7, 3.8, 6.7, 2.2],\n",
       "       [7.7, 2.6, 6.9, 2.3],\n",
       "       [6. , 2.2, 5. , 1.5],\n",
       "       [6.9, 3.2, 5.7, 2.3],\n",
       "       [5.6, 2.8, 4.9, 2. ],\n",
       "       [7.7, 2.8, 6.7, 2. ],\n",
       "       [6.3, 2.7, 4.9, 1.8],\n",
       "       [6.7, 3.3, 5.7, 2.1],\n",
       "       [7.2, 3.2, 6. , 1.8],\n",
       "       [6.2, 2.8, 4.8, 1.8],\n",
       "       [6.1, 3. , 4.9, 1.8],\n",
       "       [6.4, 2.8, 5.6, 2.1],\n",
       "       [7.2, 3. , 5.8, 1.6],\n",
       "       [7.4, 2.8, 6.1, 1.9],\n",
       "       [7.9, 3.8, 6.4, 2. ],\n",
       "       [6.4, 2.8, 5.6, 2.2],\n",
       "       [6.3, 2.8, 5.1, 1.5],\n",
       "       [6.1, 2.6, 5.6, 1.4],\n",
       "       [7.7, 3. , 6.1, 2.3],\n",
       "       [6.3, 3.4, 5.6, 2.4],\n",
       "       [6.4, 3.1, 5.5, 1.8],\n",
       "       [6. , 3. , 4.8, 1.8],\n",
       "       [6.9, 3.1, 5.4, 2.1],\n",
       "       [6.7, 3.1, 5.6, 2.4],\n",
       "       [6.9, 3.1, 5.1, 2.3],\n",
       "       [5.8, 2.7, 5.1, 1.9],\n",
       "       [6.8, 3.2, 5.9, 2.3],\n",
       "       [6.7, 3.3, 5.7, 2.5],\n",
       "       [6.7, 3. , 5.2, 2.3],\n",
       "       [6.3, 2.5, 5. , 1.9],\n",
       "       [6.5, 3. , 5.2, 2. ],\n",
       "       [6.2, 3.4, 5.4, 2.3],\n",
       "       [5.9, 3. , 5.1, 1.8]])"
      ]
     },
     "execution_count": 46,
     "metadata": {},
     "output_type": "execute_result"
    }
   ],
   "source": [
    "# Before PCA transformation\n",
    "X"
   ]
  },
  {
   "cell_type": "code",
   "execution_count": 47,
   "id": "db680f24",
   "metadata": {},
   "outputs": [
    {
     "data": {
      "text/plain": [
       "array([[-2.68412563e+00,  3.19397247e-01, -2.79148276e-02,\n",
       "        -2.26243707e-03],\n",
       "       [-2.71414169e+00, -1.77001225e-01, -2.10464272e-01,\n",
       "        -9.90265503e-02],\n",
       "       [-2.88899057e+00, -1.44949426e-01,  1.79002563e-02,\n",
       "        -1.99683897e-02],\n",
       "       [-2.74534286e+00, -3.18298979e-01,  3.15593736e-02,\n",
       "         7.55758166e-02],\n",
       "       [-2.72871654e+00,  3.26754513e-01,  9.00792406e-02,\n",
       "         6.12585926e-02],\n",
       "       [-2.28085963e+00,  7.41330449e-01,  1.68677658e-01,\n",
       "         2.42008576e-02],\n",
       "       [-2.82053775e+00, -8.94613845e-02,  2.57892158e-01,\n",
       "         4.81431065e-02],\n",
       "       [-2.62614497e+00,  1.63384960e-01, -2.18793179e-02,\n",
       "         4.52978706e-02],\n",
       "       [-2.88638273e+00, -5.78311754e-01,  2.07595703e-02,\n",
       "         2.67447358e-02],\n",
       "       [-2.67275580e+00, -1.13774246e-01, -1.97632725e-01,\n",
       "         5.62954013e-02],\n",
       "       [-2.50694709e+00,  6.45068899e-01, -7.53180094e-02,\n",
       "         1.50199245e-02],\n",
       "       [-2.61275523e+00,  1.47299392e-02,  1.02150260e-01,\n",
       "         1.56379208e-01],\n",
       "       [-2.78610927e+00, -2.35112000e-01, -2.06844430e-01,\n",
       "         7.88791149e-03],\n",
       "       [-3.22380374e+00, -5.11394587e-01,  6.12996725e-02,\n",
       "         2.16798118e-02],\n",
       "       [-2.64475039e+00,  1.17876464e+00, -1.51627524e-01,\n",
       "        -1.59209718e-01],\n",
       "       [-2.38603903e+00,  1.33806233e+00,  2.77776903e-01,\n",
       "        -6.55154587e-03],\n",
       "       [-2.62352788e+00,  8.10679514e-01,  1.38183228e-01,\n",
       "        -1.67734737e-01],\n",
       "       [-2.64829671e+00,  3.11849145e-01,  2.66683156e-02,\n",
       "        -7.76281796e-02],\n",
       "       [-2.19982032e+00,  8.72839039e-01, -1.20305523e-01,\n",
       "        -2.70518681e-02],\n",
       "       [-2.58798640e+00,  5.13560309e-01,  2.13665172e-01,\n",
       "         6.62726502e-02],\n",
       "       [-2.31025622e+00,  3.91345936e-01, -2.39444043e-01,\n",
       "         1.50707908e-02],\n",
       "       [-2.54370523e+00,  4.32996063e-01,  2.08457232e-01,\n",
       "        -4.10654027e-02],\n",
       "       [-3.21593942e+00,  1.33468070e-01,  2.92396751e-01,\n",
       "        -4.48212505e-03],\n",
       "       [-2.30273318e+00,  9.87088548e-02,  3.91232587e-02,\n",
       "        -1.48352589e-01],\n",
       "       [-2.35575405e+00, -3.72818597e-02,  1.25021083e-01,\n",
       "         3.00330904e-01],\n",
       "       [-2.50666891e+00, -1.46016880e-01, -2.53420042e-01,\n",
       "        -3.46074722e-02],\n",
       "       [-2.46882007e+00,  1.30951489e-01,  9.49105761e-02,\n",
       "        -5.74497158e-02],\n",
       "       [-2.56231991e+00,  3.67718857e-01, -7.84942051e-02,\n",
       "         1.41727423e-02],\n",
       "       [-2.63953472e+00,  3.12039980e-01, -1.45908896e-01,\n",
       "        -6.57834667e-02],\n",
       "       [-2.63198939e+00, -1.96961225e-01,  4.07710791e-02,\n",
       "         1.23983306e-01],\n",
       "       [-2.58739848e+00, -2.04318491e-01, -7.72229891e-02,\n",
       "         6.04622767e-02],\n",
       "       [-2.40993250e+00,  4.10924264e-01, -1.45524972e-01,\n",
       "        -2.31628492e-01],\n",
       "       [-2.64886233e+00,  8.13363820e-01,  2.25669150e-01,\n",
       "         2.81372347e-01],\n",
       "       [-2.59873675e+00,  1.09314576e+00,  1.57810813e-01,\n",
       "         9.53488583e-02],\n",
       "       [-2.63692688e+00, -1.21322348e-01, -1.43049582e-01,\n",
       "        -1.90703413e-02],\n",
       "       [-2.86624165e+00,  6.93644716e-02, -1.64332307e-01,\n",
       "        -1.62598446e-01],\n",
       "       [-2.62523805e+00,  5.99370021e-01, -2.68350376e-01,\n",
       "        -1.76441213e-01],\n",
       "       [-2.80068412e+00,  2.68643738e-01,  9.36990825e-02,\n",
       "         1.68173054e-01],\n",
       "       [-2.98050204e+00, -4.87958344e-01,  7.29270457e-02,\n",
       "         1.07331474e-02],\n",
       "       [-2.59000631e+00,  2.29043837e-01, -8.00823030e-02,\n",
       "         1.37491513e-02],\n",
       "       [-2.77010243e+00,  2.63527534e-01,  7.72476932e-02,\n",
       "        -9.40633590e-02],\n",
       "       [-2.84936871e+00, -9.40960574e-01, -3.49230377e-01,\n",
       "        -3.19987487e-01],\n",
       "       [-2.99740655e+00, -3.41926057e-01,  1.92509212e-01,\n",
       "         7.46777682e-02],\n",
       "       [-2.40561449e+00,  1.88871429e-01,  2.63867946e-01,\n",
       "        -1.76208890e-01],\n",
       "       [-2.20948924e+00,  4.36663142e-01,  2.98742746e-01,\n",
       "         1.82842502e-01],\n",
       "       [-2.71445143e+00, -2.50208204e-01, -9.76781440e-02,\n",
       "        -1.42843574e-01],\n",
       "       [-2.53814826e+00,  5.03771144e-01,  1.66705637e-01,\n",
       "         1.89622291e-01],\n",
       "       [-2.83946217e+00, -2.27945569e-01,  8.37268490e-02,\n",
       "         5.95642283e-02],\n",
       "       [-2.54308575e+00,  5.79410022e-01, -1.71150242e-02,\n",
       "         4.65686438e-02],\n",
       "       [-2.70335978e+00,  1.07706082e-01, -8.92940085e-02,\n",
       "        -3.46583385e-02],\n",
       "       [ 1.28482569e+00,  6.85160470e-01, -4.06568025e-01,\n",
       "        -1.85252879e-02],\n",
       "       [ 9.32488532e-01,  3.18333638e-01, -1.80141866e-02,\n",
       "        -5.66512106e-04],\n",
       "       [ 1.46430232e+00,  5.04262815e-01, -3.38325765e-01,\n",
       "         1.65317587e-03],\n",
       "       [ 1.83317720e-01, -8.27959012e-01, -1.79591392e-01,\n",
       "        -9.35668402e-02],\n",
       "       [ 1.08810326e+00,  7.45906752e-02, -3.07757896e-01,\n",
       "        -1.12020574e-01],\n",
       "       [ 6.41669084e-01, -4.18246872e-01,  4.10760908e-02,\n",
       "         2.43116767e-01],\n",
       "       [ 1.09506066e+00,  2.83468270e-01,  1.69810240e-01,\n",
       "         8.35565724e-02],\n",
       "       [-7.49122670e-01, -1.00489096e+00,  1.23029192e-02,\n",
       "         1.79077226e-02],\n",
       "       [ 1.04413183e+00,  2.28361900e-01, -4.15336085e-01,\n",
       "         3.91345020e-02],\n",
       "       [-8.74540408e-03, -7.23081905e-01,  2.81141431e-01,\n",
       "         5.61891788e-03],\n",
       "       [-5.07840884e-01, -1.26597119e+00, -2.69817183e-01,\n",
       "        -4.55624408e-02],\n",
       "       [ 5.11698557e-01, -1.03981235e-01,  1.30547750e-01,\n",
       "        -5.07192325e-02],\n",
       "       [ 2.64976508e-01, -5.50036464e-01, -6.94146830e-01,\n",
       "        -5.71855195e-02],\n",
       "       [ 9.84934510e-01, -1.24817854e-01, -6.21144083e-02,\n",
       "         1.69496255e-01],\n",
       "       [-1.73925372e-01, -2.54854209e-01,  9.04576907e-02,\n",
       "        -1.25217292e-01],\n",
       "       [ 9.27860781e-01,  4.67179494e-01, -3.14620976e-01,\n",
       "        -9.98031365e-02],\n",
       "       [ 6.60283762e-01, -3.52969666e-01,  3.28027528e-01,\n",
       "         1.87878621e-01],\n",
       "       [ 2.36104993e-01, -3.33610767e-01, -2.71161837e-01,\n",
       "         2.13757370e-01],\n",
       "       [ 9.44733728e-01, -5.43145551e-01, -4.99519046e-01,\n",
       "        -2.57192177e-01],\n",
       "       [ 4.52269763e-02, -5.83834377e-01, -2.35002105e-01,\n",
       "         4.15766476e-02],\n",
       "       [ 1.11628318e+00, -8.46168522e-02,  4.59620991e-01,\n",
       "         7.50315529e-02],\n",
       "       [ 3.57888418e-01, -6.89250317e-02, -2.29853888e-01,\n",
       "        -1.22997604e-01],\n",
       "       [ 1.29818388e+00, -3.27787308e-01, -3.47854352e-01,\n",
       "        -8.88370584e-04],\n",
       "       [ 9.21728922e-01, -1.82737794e-01, -2.31071778e-01,\n",
       "         2.88255429e-01],\n",
       "       [ 7.14853326e-01,  1.49055944e-01, -3.21800937e-01,\n",
       "        -4.17197556e-02],\n",
       "       [ 9.00174373e-01,  3.28504474e-01, -3.16209074e-01,\n",
       "        -1.00226728e-01],\n",
       "       [ 1.33202444e+00,  2.44440876e-01, -5.21702780e-01,\n",
       "        -3.53331921e-02],\n",
       "       [ 1.55780216e+00,  2.67495447e-01, -1.64920984e-01,\n",
       "        -6.99692823e-02],\n",
       "       [ 8.13290650e-01, -1.63350301e-01,  3.54245048e-02,\n",
       "         2.97114340e-02],\n",
       "       [-3.05583778e-01, -3.68262190e-01, -3.18491581e-01,\n",
       "        -7.45696136e-02],\n",
       "       [-6.81264921e-02, -7.05172132e-01, -2.44213810e-01,\n",
       "        -6.83084222e-03],\n",
       "       [-1.89622472e-01, -6.80286764e-01, -3.06420561e-01,\n",
       "         2.05510016e-02],\n",
       "       [ 1.36428712e-01, -3.14032438e-01, -1.77242766e-01,\n",
       "        -3.29419128e-02],\n",
       "       [ 1.38002644e+00, -4.20954287e-01,  1.61671275e-02,\n",
       "         1.78304463e-01],\n",
       "       [ 5.88006443e-01, -4.84287420e-01,  4.44433499e-01,\n",
       "         2.50976060e-01],\n",
       "       [ 8.06858313e-01,  1.94182315e-01,  3.88963063e-01,\n",
       "         1.14207243e-01],\n",
       "       [ 1.22069088e+00,  4.07619594e-01, -2.37167010e-01,\n",
       "        -3.12171829e-02],\n",
       "       [ 8.15095236e-01, -3.72037060e-01, -6.14720843e-01,\n",
       "        -1.54021000e-01],\n",
       "       [ 2.45957680e-01, -2.68524397e-01,  1.88366812e-01,\n",
       "         1.46674512e-01],\n",
       "       [ 1.66413217e-01, -6.81926725e-01, -6.00092259e-02,\n",
       "        -2.96222195e-02],\n",
       "       [ 4.64800288e-01, -6.70711545e-01, -2.43068557e-02,\n",
       "         2.69651428e-01],\n",
       "       [ 8.90815198e-01, -3.44644444e-02, -9.94693289e-03,\n",
       "         1.53484666e-01],\n",
       "       [ 2.30548024e-01, -4.04385848e-01, -2.29410241e-01,\n",
       "        -1.69303245e-02],\n",
       "       [-7.04531759e-01, -1.01224823e+00, -1.05691149e-01,\n",
       "        -4.56133071e-02],\n",
       "       [ 3.56981495e-01, -5.04910093e-01,  1.66171702e-02,\n",
       "         9.87414793e-02],\n",
       "       [ 3.31934480e-01, -2.12654684e-01,  8.32042909e-02,\n",
       "         2.38475434e-01],\n",
       "       [ 3.76215651e-01, -2.93218929e-01,  7.79963511e-02,\n",
       "         1.31137381e-01],\n",
       "       [ 6.42576008e-01,  1.77381901e-02, -2.05394967e-01,\n",
       "         2.13776830e-02],\n",
       "       [-9.06469865e-01, -7.56093367e-01, -1.25996476e-02,\n",
       "        -2.32534844e-01],\n",
       "       [ 2.99000842e-01, -3.48897806e-01,  1.05816605e-02,\n",
       "         5.11811717e-02],\n",
       "       [ 2.53119273e+00, -9.84910950e-03,  7.60165427e-01,\n",
       "         2.90555728e-02],\n",
       "       [ 1.41523588e+00, -5.74916348e-01,  2.96322527e-01,\n",
       "         1.53046739e-02],\n",
       "       [ 2.61667602e+00,  3.43903151e-01, -1.10787883e-01,\n",
       "        -6.57720412e-02],\n",
       "       [ 1.97153105e+00, -1.79727904e-01,  1.08424662e-01,\n",
       "         2.36790934e-01],\n",
       "       [ 2.35000592e+00, -4.02609471e-02,  2.85389563e-01,\n",
       "         1.70633278e-04],\n",
       "       [ 3.39703874e+00,  5.50836673e-01, -3.48437556e-01,\n",
       "         1.12371653e-01],\n",
       "       [ 5.21232244e-01, -1.19275873e+00,  5.45659296e-01,\n",
       "         9.81266196e-02],\n",
       "       [ 2.93258707e+00,  3.55500003e-01, -4.20239936e-01,\n",
       "         2.57191032e-01],\n",
       "       [ 2.32122882e+00, -2.43831502e-01, -3.48304395e-01,\n",
       "         7.86746130e-02],\n",
       "       [ 2.91675097e+00,  7.82791949e-01,  4.23335418e-01,\n",
       "        -1.10982071e-01],\n",
       "       [ 1.66177415e+00,  2.42228408e-01,  2.42440190e-01,\n",
       "        -1.21040552e-01],\n",
       "       [ 1.80340195e+00, -2.15637617e-01, -3.76481682e-02,\n",
       "        -7.80198444e-02],\n",
       "       [ 2.16559180e+00,  2.16275585e-01,  3.33266418e-02,\n",
       "        -1.63061478e-01],\n",
       "       [ 1.34616358e+00, -7.76818347e-01,  2.81902882e-01,\n",
       "        -1.40440869e-01],\n",
       "       [ 1.58592822e+00, -5.39640714e-01,  6.29029326e-01,\n",
       "        -3.29551728e-01],\n",
       "       [ 1.90445637e+00,  1.19250692e-01,  4.79639820e-01,\n",
       "        -2.19621263e-01],\n",
       "       [ 1.94968906e+00,  4.19432597e-02,  4.41861676e-02,\n",
       "         1.57681907e-01],\n",
       "       [ 3.48705536e+00,  1.17573933e+00,  1.33894874e-01,\n",
       "         3.09219573e-01],\n",
       "       [ 3.79564542e+00,  2.57322973e-01, -5.13767764e-01,\n",
       "        -5.38460965e-02],\n",
       "       [ 1.30079171e+00, -7.61149636e-01, -3.44995038e-01,\n",
       "         4.58247549e-02],\n",
       "       [ 2.42781791e+00,  3.78196013e-01,  2.19119324e-01,\n",
       "        -1.85429264e-01],\n",
       "       [ 1.19900111e+00, -6.06091528e-01,  5.11855509e-01,\n",
       "        -6.09591171e-02],\n",
       "       [ 3.49992004e+00,  4.60674099e-01, -5.73182243e-01,\n",
       "         1.40227954e-01],\n",
       "       [ 1.38876613e+00, -2.04399327e-01, -6.45227566e-02,\n",
       "        -1.63040977e-01],\n",
       "       [ 2.27543050e+00,  3.34990606e-01,  2.86150091e-01,\n",
       "         6.03719696e-02],\n",
       "       [ 2.61409047e+00,  5.60901355e-01, -2.05534524e-01,\n",
       "         2.40704986e-01],\n",
       "       [ 1.25850816e+00, -1.79704795e-01,  4.58477039e-02,\n",
       "        -1.47503846e-01],\n",
       "       [ 1.29113206e+00, -1.16668651e-01,  2.31256463e-01,\n",
       "        -4.02660775e-03],\n",
       "       [ 2.12360872e+00, -2.09729477e-01,  1.54180024e-01,\n",
       "        -5.28273230e-02],\n",
       "       [ 2.38800302e+00,  4.64639805e-01, -4.49530192e-01,\n",
       "         2.31524053e-01],\n",
       "       [ 2.84167278e+00,  3.75269167e-01, -4.98898076e-01,\n",
       "         2.23364626e-02],\n",
       "       [ 3.23067366e+00,  1.37416509e+00, -1.14548205e-01,\n",
       "         2.52901923e-01],\n",
       "       [ 2.15943764e+00, -2.17277579e-01,  2.08763167e-01,\n",
       "        -1.28193066e-01],\n",
       "       [ 1.44416124e+00, -1.43413410e-01, -1.53233888e-01,\n",
       "         1.90996358e-01],\n",
       "       [ 1.78129481e+00, -4.99901681e-01, -1.72875189e-01,\n",
       "         5.05434412e-01],\n",
       "       [ 3.07649993e+00,  6.88085678e-01, -3.35592292e-01,\n",
       "        -3.09828045e-01],\n",
       "       [ 2.14424331e+00,  1.40064201e-01,  7.34878937e-01,\n",
       "        -5.55419691e-02],\n",
       "       [ 1.90509815e+00,  4.93005260e-02,  1.62180236e-01,\n",
       "         2.21202937e-01],\n",
       "       [ 1.16932634e+00, -1.64990262e-01,  2.81835840e-01,\n",
       "        -2.04617872e-02],\n",
       "       [ 2.10761114e+00,  3.72287872e-01,  2.72911321e-02,\n",
       "        -2.10621786e-01],\n",
       "       [ 2.31415471e+00,  1.83651279e-01,  3.22693747e-01,\n",
       "        -2.77653777e-01],\n",
       "       [ 1.92226780e+00,  4.09203467e-01,  1.13586596e-01,\n",
       "        -5.05304967e-01],\n",
       "       [ 1.41523588e+00, -5.74916348e-01,  2.96322527e-01,\n",
       "         1.53046739e-02],\n",
       "       [ 2.56301338e+00,  2.77862603e-01,  2.92569525e-01,\n",
       "        -5.79127477e-02],\n",
       "       [ 2.41874618e+00,  3.04798198e-01,  5.04482664e-01,\n",
       "        -2.41091000e-01],\n",
       "       [ 1.94410979e+00,  1.87532303e-01,  1.77825091e-01,\n",
       "        -4.26195940e-01],\n",
       "       [ 1.52716661e+00, -3.75316983e-01, -1.21898172e-01,\n",
       "        -2.54367442e-01],\n",
       "       [ 1.76434572e+00,  7.88588545e-02,  1.30481631e-01,\n",
       "        -1.37001274e-01],\n",
       "       [ 1.90094161e+00,  1.16627959e-01,  7.23251563e-01,\n",
       "        -4.45953047e-02],\n",
       "       [ 1.39018886e+00, -2.82660938e-01,  3.62909648e-01,\n",
       "         1.55038628e-01]])"
      ]
     },
     "execution_count": 47,
     "metadata": {},
     "output_type": "execute_result"
    }
   ],
   "source": [
    "# After PCA transformation\n",
    "pca = PCA(n_components=4)\n",
    "pca.fit_transform(X)"
   ]
  },
  {
   "cell_type": "markdown",
   "id": "445e19d4",
   "metadata": {},
   "source": [
    "## Random Forest Classifier"
   ]
  },
  {
   "cell_type": "markdown",
   "id": "e46e61f7",
   "metadata": {},
   "source": [
    "Random Forest Classifier is a classifier that contains a number of decision trees on various subsets of the given dataset and takes the average to improve the predictive accuracy of that dataset"
   ]
  },
  {
   "cell_type": "code",
   "execution_count": 48,
   "id": "595f5987",
   "metadata": {},
   "outputs": [],
   "source": [
    "# Required packages\n",
    "from sklearn.ensemble import RandomForestClassifier # Random Forest Classifier package\n",
    "from sklearn.model_selection import train_test_split"
   ]
  },
  {
   "cell_type": "code",
   "execution_count": 49,
   "id": "a13332d8",
   "metadata": {},
   "outputs": [],
   "source": [
    "# Importing a dataset for Random Forest Classifier Algorithm\n",
    "from sklearn.datasets import load_wine\n",
    "wine = load_wine()\n",
    "X = wine.data\n",
    "y = wine.target\n",
    "# Split the data into training and testing datasets\n",
    "X_train, X_test, y_train, y_test = train_test_split(X, y, test_size = 0.2)"
   ]
  },
  {
   "cell_type": "code",
   "execution_count": 50,
   "id": "2b564b55",
   "metadata": {},
   "outputs": [],
   "source": [
    "# Syntax for creating a Random Forest Classifier model:\n",
    "\n",
    "\n",
    "# RandomForestClassifier(n_estimators=100, *, criterion='gini', max_depth=None, min_samples_split=2, \n",
    "# min_samples_leaf=1, min_weight_fraction_leaf=0.0, max_features='sqrt', max_leaf_nodes=None, \n",
    "# min_impurity_decrease=0.0, bootstrap=True, oob_score=False, n_jobs=None, random_state=None, verbose=0, \n",
    "# warm_start=False, class_weight=None, ccp_alpha=0.0, max_samples=None)\n",
    "\n",
    "# Link for explanation of terms : https://scikit-learn.org/stable/modules/generated/sklearn.ensemble.RandomForestClassifier.html\n",
    "\n",
    "# A simple model:\n",
    "rfm = RandomForestClassifier()\n",
    "rfm.fit(X_train, y_train)\n",
    "y_pred = rfm.predict(X_test)"
   ]
  },
  {
   "cell_type": "code",
   "execution_count": 51,
   "id": "ac66e26d",
   "metadata": {},
   "outputs": [
    {
     "name": "stdout",
     "output_type": "stream",
     "text": [
      "Input :  [[1.145e+01 2.400e+00 2.420e+00 2.000e+01 9.600e+01 2.900e+00 2.790e+00\n",
      "  3.200e-01 1.830e+00 3.250e+00 8.000e-01 3.390e+00 6.250e+02]\n",
      " [1.438e+01 3.590e+00 2.280e+00 1.600e+01 1.020e+02 3.250e+00 3.170e+00\n",
      "  2.700e-01 2.190e+00 4.900e+00 1.040e+00 3.440e+00 1.065e+03]\n",
      " [1.229e+01 1.610e+00 2.210e+00 2.040e+01 1.030e+02 1.100e+00 1.020e+00\n",
      "  3.700e-01 1.460e+00 3.050e+00 9.060e-01 1.820e+00 8.700e+02]\n",
      " [1.388e+01 1.890e+00 2.590e+00 1.500e+01 1.010e+02 3.250e+00 3.560e+00\n",
      "  1.700e-01 1.700e+00 5.430e+00 8.800e-01 3.560e+00 1.095e+03]\n",
      " [1.439e+01 1.870e+00 2.450e+00 1.460e+01 9.600e+01 2.500e+00 2.520e+00\n",
      "  3.000e-01 1.980e+00 5.250e+00 1.020e+00 3.580e+00 1.290e+03]\n",
      " [1.348e+01 1.670e+00 2.640e+00 2.250e+01 8.900e+01 2.600e+00 1.100e+00\n",
      "  5.200e-01 2.290e+00 1.175e+01 5.700e-01 1.780e+00 6.200e+02]\n",
      " [1.299e+01 1.670e+00 2.600e+00 3.000e+01 1.390e+02 3.300e+00 2.890e+00\n",
      "  2.100e-01 1.960e+00 3.350e+00 1.310e+00 3.500e+00 9.850e+02]\n",
      " [1.237e+01 9.400e-01 1.360e+00 1.060e+01 8.800e+01 1.980e+00 5.700e-01\n",
      "  2.800e-01 4.200e-01 1.950e+00 1.050e+00 1.820e+00 5.200e+02]\n",
      " [1.293e+01 2.810e+00 2.700e+00 2.100e+01 9.600e+01 1.540e+00 5.000e-01\n",
      "  5.300e-01 7.500e-01 4.600e+00 7.700e-01 2.310e+00 6.000e+02]\n",
      " [1.260e+01 2.460e+00 2.200e+00 1.850e+01 9.400e+01 1.620e+00 6.600e-01\n",
      "  6.300e-01 9.400e-01 7.100e+00 7.300e-01 1.580e+00 6.950e+02]\n",
      " [1.356e+01 1.730e+00 2.460e+00 2.050e+01 1.160e+02 2.960e+00 2.780e+00\n",
      "  2.000e-01 2.450e+00 6.250e+00 9.800e-01 3.030e+00 1.120e+03]\n",
      " [1.324e+01 3.980e+00 2.290e+00 1.750e+01 1.030e+02 2.640e+00 2.630e+00\n",
      "  3.200e-01 1.660e+00 4.360e+00 8.200e-01 3.000e+00 6.800e+02]\n",
      " [1.305e+01 1.730e+00 2.040e+00 1.240e+01 9.200e+01 2.720e+00 3.270e+00\n",
      "  1.700e-01 2.910e+00 7.200e+00 1.120e+00 2.910e+00 1.150e+03]\n",
      " [1.242e+01 4.430e+00 2.730e+00 2.650e+01 1.020e+02 2.200e+00 2.130e+00\n",
      "  4.300e-01 1.710e+00 2.080e+00 9.200e-01 3.120e+00 3.650e+02]\n",
      " [1.200e+01 1.510e+00 2.420e+00 2.200e+01 8.600e+01 1.450e+00 1.250e+00\n",
      "  5.000e-01 1.630e+00 3.600e+00 1.050e+00 2.650e+00 4.500e+02]\n",
      " [1.242e+01 1.610e+00 2.190e+00 2.250e+01 1.080e+02 2.000e+00 2.090e+00\n",
      "  3.400e-01 1.610e+00 2.060e+00 1.060e+00 2.960e+00 3.450e+02]\n",
      " [1.270e+01 3.870e+00 2.400e+00 2.300e+01 1.010e+02 2.830e+00 2.550e+00\n",
      "  4.300e-01 1.950e+00 2.570e+00 1.190e+00 3.130e+00 4.630e+02]\n",
      " [1.368e+01 1.830e+00 2.360e+00 1.720e+01 1.040e+02 2.420e+00 2.690e+00\n",
      "  4.200e-01 1.970e+00 3.840e+00 1.230e+00 2.870e+00 9.900e+02]\n",
      " [1.372e+01 1.430e+00 2.500e+00 1.670e+01 1.080e+02 3.400e+00 3.670e+00\n",
      "  1.900e-01 2.040e+00 6.800e+00 8.900e-01 2.870e+00 1.285e+03]\n",
      " [1.383e+01 1.650e+00 2.600e+00 1.720e+01 9.400e+01 2.450e+00 2.990e+00\n",
      "  2.200e-01 2.290e+00 5.600e+00 1.240e+00 3.370e+00 1.265e+03]\n",
      " [1.323e+01 3.300e+00 2.280e+00 1.850e+01 9.800e+01 1.800e+00 8.300e-01\n",
      "  6.100e-01 1.870e+00 1.052e+01 5.600e-01 1.510e+00 6.750e+02]\n",
      " [1.200e+01 3.430e+00 2.000e+00 1.900e+01 8.700e+01 2.000e+00 1.640e+00\n",
      "  3.700e-01 1.870e+00 1.280e+00 9.300e-01 3.050e+00 5.640e+02]\n",
      " [1.348e+01 1.810e+00 2.410e+00 2.050e+01 1.000e+02 2.700e+00 2.980e+00\n",
      "  2.600e-01 1.860e+00 5.100e+00 1.040e+00 3.470e+00 9.200e+02]\n",
      " [1.272e+01 1.810e+00 2.200e+00 1.880e+01 8.600e+01 2.200e+00 2.530e+00\n",
      "  2.600e-01 1.770e+00 3.900e+00 1.160e+00 3.140e+00 7.140e+02]\n",
      " [1.386e+01 1.510e+00 2.670e+00 2.500e+01 8.600e+01 2.950e+00 2.860e+00\n",
      "  2.100e-01 1.870e+00 3.380e+00 1.360e+00 3.160e+00 4.100e+02]\n",
      " [1.200e+01 9.200e-01 2.000e+00 1.900e+01 8.600e+01 2.420e+00 2.260e+00\n",
      "  3.000e-01 1.430e+00 2.500e+00 1.380e+00 3.120e+00 2.780e+02]\n",
      " [1.388e+01 5.040e+00 2.230e+00 2.000e+01 8.000e+01 9.800e-01 3.400e-01\n",
      "  4.000e-01 6.800e-01 4.900e+00 5.800e-01 1.330e+00 4.150e+02]\n",
      " [1.311e+01 1.010e+00 1.700e+00 1.500e+01 7.800e+01 2.980e+00 3.180e+00\n",
      "  2.600e-01 2.280e+00 5.300e+00 1.120e+00 3.180e+00 5.020e+02]\n",
      " [1.419e+01 1.590e+00 2.480e+00 1.650e+01 1.080e+02 3.300e+00 3.930e+00\n",
      "  3.200e-01 1.860e+00 8.700e+00 1.230e+00 2.820e+00 1.680e+03]\n",
      " [1.225e+01 1.730e+00 2.120e+00 1.900e+01 8.000e+01 1.650e+00 2.030e+00\n",
      "  3.700e-01 1.630e+00 3.400e+00 1.000e+00 3.170e+00 5.100e+02]\n",
      " [1.164e+01 2.060e+00 2.460e+00 2.160e+01 8.400e+01 1.950e+00 1.690e+00\n",
      "  4.800e-01 1.350e+00 2.800e+00 1.000e+00 2.750e+00 6.800e+02]\n",
      " [1.356e+01 1.710e+00 2.310e+00 1.620e+01 1.170e+02 3.150e+00 3.290e+00\n",
      "  3.400e-01 2.340e+00 6.130e+00 9.500e-01 3.380e+00 7.950e+02]\n",
      " [1.406e+01 1.630e+00 2.280e+00 1.600e+01 1.260e+02 3.000e+00 3.170e+00\n",
      "  2.400e-01 2.100e+00 5.650e+00 1.090e+00 3.710e+00 7.800e+02]\n",
      " [1.324e+01 2.590e+00 2.870e+00 2.100e+01 1.180e+02 2.800e+00 2.690e+00\n",
      "  3.900e-01 1.820e+00 4.320e+00 1.040e+00 2.930e+00 7.350e+02]\n",
      " [1.320e+01 1.780e+00 2.140e+00 1.120e+01 1.000e+02 2.650e+00 2.760e+00\n",
      "  2.600e-01 1.280e+00 4.380e+00 1.050e+00 3.400e+00 1.050e+03]\n",
      " [1.229e+01 3.170e+00 2.210e+00 1.800e+01 8.800e+01 2.850e+00 2.990e+00\n",
      "  4.500e-01 2.810e+00 2.300e+00 1.420e+00 2.830e+00 4.060e+02]]\n",
      "Expected output :  [1 0 1 0 0 2 1 1 2 2 0 0 0 1 1 1 1 0 0 0 2 1 0 1 1 1 2 1 0 1 1 0 0 0 0 1]\n",
      "Predicted output :  [1 0 1 0 0 2 0 1 2 2 0 1 0 1 1 1 1 0 0 0 2 1 0 1 1 1 2 1 0 1 1 0 0 0 0 1]\n"
     ]
    }
   ],
   "source": [
    "# Exploring the input & output\n",
    "\n",
    "# Input: A two-dimensional array which contains all the features of the breast cancer dataset\n",
    "print(\"Input : \", X_test)\n",
    "\n",
    "# Output: The ouput array is the prediction\n",
    "print(\"Expected output : \", y_test)\n",
    "print(\"Predicted output : \", y_pred)"
   ]
  },
  {
   "cell_type": "code",
   "execution_count": 52,
   "id": "3676f3d7",
   "metadata": {},
   "outputs": [
    {
     "name": "stdout",
     "output_type": "stream",
     "text": [
      "Test Accuracy Score: 0.9444444444444444\n",
      "Precision: 0.9444444444444444\n",
      "Recall: 0.9444444444444444\n"
     ]
    }
   ],
   "source": [
    "# Calculating the Accuracy\n",
    "# Importing necessary packages\n",
    "from sklearn.metrics import mean_squared_error\n",
    "from sklearn.metrics import precision_score\n",
    "from sklearn.metrics import recall_score\n",
    "\n",
    "# Accuracy\n",
    "print(\"Test Accuracy Score:\", rfm.score(X_test, y_test)) #Predicted correctly/Total values\n",
    "\n",
    "# Precision\n",
    "print(\"Precision:\",precision_score(y_test, y_pred, average='weighted')) #Proportion of positive identifications actually correct\n",
    "\n",
    "# Recall\n",
    "print(\"Recall:\",recall_score(y_test, y_pred, average='weighted')) # Proportion of actual positives was identified correctly"
   ]
  },
  {
   "cell_type": "markdown",
   "id": "b6607af6",
   "metadata": {},
   "source": [
    "## Gradient Boosting Classifier Algorithm"
   ]
  },
  {
   "cell_type": "markdown",
   "id": "10c1a0a0",
   "metadata": {},
   "source": [
    "Gradient Boosting Classifier Algorithm gives a prediction model in the form of an ensemble of weak prediction models, which are typically decision trees"
   ]
  },
  {
   "cell_type": "code",
   "execution_count": 53,
   "id": "fa003985",
   "metadata": {},
   "outputs": [],
   "source": [
    "#Required packages\n",
    "from sklearn.ensemble import GradientBoostingClassifier # Gradient Boosting Classifier package\n",
    "from sklearn.model_selection import train_test_split"
   ]
  },
  {
   "cell_type": "code",
   "execution_count": 54,
   "id": "81147e28",
   "metadata": {},
   "outputs": [],
   "source": [
    "#Importing a dataset for Gradient Boosting Classifier Algorithm\n",
    "from sklearn.datasets import load_breast_cancer\n",
    "breast_cancer = load_breast_cancer()\n",
    "X = breast_cancer.data\n",
    "y = breast_cancer.target\n",
    "#Split the data into training and testing datasets\n",
    "X_train, X_test, y_train, y_test = train_test_split(X, y, test_size = 0.2)"
   ]
  },
  {
   "cell_type": "code",
   "execution_count": 55,
   "id": "01becd8c",
   "metadata": {},
   "outputs": [],
   "source": [
    " # Syntax for creating a Gradient Boosting Classifier model:\n",
    "\n",
    "\n",
    "# GradientBoostingClassifier(*, loss='log_loss', learning_rate=0.1, n_estimators=100, subsample=1.0, \n",
    "# criterion='friedman_mse', min_samples_split=2, min_samples_leaf=1, min_weight_fraction_leaf=0.0, max_depth=3,\n",
    "# min_impurity_decrease=0.0, init=None, random_state=None, max_features=None, verbose=0, max_leaf_nodes=None,\n",
    "# warm_start=False, validation_fraction=0.1, n_iter_no_change=None, tol=0.0001, ccp_alpha=0.0)\n",
    "\n",
    "# Link for explanation of terms : https://scikit-learn.org/stable/modules/generated/sklearn.ensemble.GradientBoostingClassifier.html\n",
    "\n",
    "# A simple model:\n",
    "gbc = GradientBoostingClassifier()\n",
    "gbc.fit(X_train, y_train)\n",
    "y_pred = gbc.predict(X_test)"
   ]
  },
  {
   "cell_type": "code",
   "execution_count": 56,
   "id": "10658900",
   "metadata": {},
   "outputs": [
    {
     "name": "stdout",
     "output_type": "stream",
     "text": [
      "Input :  [[1.953e+01 3.247e+01 1.280e+02 ... 1.625e-01 2.713e-01 7.568e-02]\n",
      " [7.760e+00 2.454e+01 4.792e+01 ... 0.000e+00 2.871e-01 7.039e-02]\n",
      " [1.091e+01 1.235e+01 6.914e+01 ... 3.194e-02 2.143e-01 6.643e-02]\n",
      " ...\n",
      " [1.803e+01 1.685e+01 1.175e+02 ... 1.535e-01 2.842e-01 8.225e-02]\n",
      " [1.143e+01 1.731e+01 7.366e+01 ... 6.402e-02 2.584e-01 8.096e-02]\n",
      " [1.106e+01 1.483e+01 7.031e+01 ... 5.556e-02 2.590e-01 9.158e-02]]\n",
      "Expected output :  [0 1 1 0 1 0 0 1 0 1 1 1 1 1 0 0 0 1 1 1 1 1 0 1 1 1 0 1 0 0 0 1 1 1 1 1 1\n",
      " 1 1 0 0 1 1 1 1 1 1 0 1 1 1 1 1 1 1 1 1 1 0 1 0 1 0 1 1 1 1 1 0 1 0 1 0 1\n",
      " 1 1 1 1 1 1 0 1 0 1 1 0 1 1 1 0 0 1 0 1 0 1 1 1 0 1 1 1 1 0 1 0 0 1 0 1 0\n",
      " 0 1 1]\n",
      "Predicted output :  [0 1 1 0 0 0 0 1 0 1 1 1 1 1 0 0 0 1 1 1 1 1 1 1 1 1 0 1 0 0 0 1 1 1 1 1 0\n",
      " 1 1 0 0 1 1 1 1 1 1 0 1 1 1 1 1 1 1 1 1 1 0 1 0 1 0 1 1 1 1 1 0 1 0 1 0 1\n",
      " 1 1 1 1 1 1 0 1 0 1 1 0 1 1 1 0 0 1 0 1 0 1 1 1 0 1 1 1 1 0 1 0 0 1 0 1 0\n",
      " 0 1 1]\n"
     ]
    }
   ],
   "source": [
    "# Exploring the input & output\n",
    "\n",
    "# Input: A two-dimensional array which contains all the features of the diabetes dataset\n",
    "print(\"Input : \", X_test)\n",
    "\n",
    "# Output: The ouput array is the prediction\n",
    "print(\"Expected output : \", y_test)\n",
    "print(\"Predicted output : \", y_pred)"
   ]
  },
  {
   "cell_type": "code",
   "execution_count": 57,
   "id": "e1ad49b9",
   "metadata": {},
   "outputs": [
    {
     "name": "stdout",
     "output_type": "stream",
     "text": [
      "Test Accuracy Score: 0.9736842105263158\n",
      "Precision: 0.9740444477286583\n",
      "Recall: 0.9736842105263158\n"
     ]
    }
   ],
   "source": [
    "# Calculating the Accuracy\n",
    "# Importing necessary packages\n",
    "from sklearn.metrics import precision_score\n",
    "from sklearn.metrics import recall_score\n",
    "\n",
    "# Accuracy\n",
    "print(\"Test Accuracy Score:\", gbc.score(X_test, y_test)) #Predicted correctly/Total values\n",
    "\n",
    "# Precision\n",
    "print(\"Precision:\",precision_score(y_test, y_pred, average='weighted')) #Proportion of positive identifications actually correct\n",
    "\n",
    "# Recall\n",
    "print(\"Recall:\",recall_score(y_test, y_pred, average='weighted')) # Proportion of actual positives was identified correctly"
   ]
  },
  {
   "cell_type": "markdown",
   "id": "0e6f703a",
   "metadata": {},
   "source": [
    "## Ada Boost Classifier Algorithm"
   ]
  },
  {
   "cell_type": "markdown",
   "id": "4ec49c73",
   "metadata": {},
   "source": [
    "AdaBoost Classifier is a meta-estimator that begins by fitting a classifier on the original dataset and then fits additional copies of the classifier on the same dataset but where the weights of incorrectly classified instances are adjusted such that subsequent classifiers focus more on difficult cases."
   ]
  },
  {
   "cell_type": "code",
   "execution_count": 58,
   "id": "0601afc3",
   "metadata": {},
   "outputs": [],
   "source": [
    "# Required packages\n",
    "from sklearn.ensemble import AdaBoostClassifier # Ada Boost Classifier package\n",
    "from sklearn.datasets import make_classification"
   ]
  },
  {
   "cell_type": "code",
   "execution_count": 59,
   "id": "337e0396",
   "metadata": {},
   "outputs": [],
   "source": [
    "# Creating a dataset using make_classification\n",
    "X, y = make_classification(n_samples=1000, n_features=4,n_informative=2, n_redundant=0)    "
   ]
  },
  {
   "cell_type": "code",
   "execution_count": 60,
   "id": "b96ee610",
   "metadata": {},
   "outputs": [],
   "source": [
    "# Syntax for creating a Ada Boost Classifier model:\n",
    "\n",
    "\n",
    "# AdaBoostClassifier(base_estimator=None, *, n_estimators=50, learning_rate=1.0, algorithm='SAMME.R', \n",
    "# random_state=None)\n",
    "\n",
    "# Link for explanation of terms : https://scikit-learn.org/stable/modules/generated/sklearn.ensemble.AdaBoostClassifier.html\n",
    "\n",
    "# A simple model:\n",
    "abc = AdaBoostClassifier(n_estimators=100)\n",
    "abc.fit(X, y)\n",
    "y_pred = abc.predict(X)"
   ]
  },
  {
   "cell_type": "code",
   "execution_count": 61,
   "id": "5dc95855",
   "metadata": {},
   "outputs": [
    {
     "name": "stdout",
     "output_type": "stream",
     "text": [
      "Input :  [[ 0.11475021 -0.57446751 -0.25387435 -0.92864355]\n",
      " [ 0.01998867  0.63755206 -1.19574652  0.78416086]\n",
      " [ 1.49947068  1.93748808 -0.09473749  0.3337239 ]\n",
      " ...\n",
      " [ 1.00105801 -0.21147385 -0.21207427 -1.02076283]\n",
      " [ 0.66382579  1.9300647  -0.16024042 -1.4375696 ]\n",
      " [-1.40510731 -1.4504347  -0.06879479  1.89154611]]\n",
      "Expected output :  [0 0 1 0 0 1 1 0 1 1 0 0 1 1 1 1 0 0 1 0 0 1 0 0 0 1 1 1 1 0 1 0 1 0 0 1 1\n",
      " 1 1 1 1 0 1 0 1 1 1 1 0 0 1 1 1 1 1 0 1 1 0 1 1 1 0 0 0 1 0 1 0 1 0 0 0 0\n",
      " 1 0 0 0 0 1 1 0 1 0 0 1 0 0 0 1 1 1 1 0 1 0 0 0 0 1 1 1 0 1 0 1 0 0 1 1 1\n",
      " 1 1 1 0 0 1 1 0 0 1 1 1 0 0 1 1 1 0 1 1 0 1 0 1 1 1 0 0 0 1 1 0 1 1 0 0 0\n",
      " 0 1 1 0 0 1 1 1 0 1 1 1 0 0 0 1 0 1 1 1 1 0 0 0 1 1 0 1 1 1 0 0 1 0 1 0 1\n",
      " 1 0 0 0 0 0 0 1 0 0 1 0 0 1 0 0 0 1 1 0 1 0 1 1 0 0 0 1 0 0 1 0 0 0 1 0 1\n",
      " 1 1 0 1 0 0 1 1 0 1 0 0 0 1 0 1 1 0 0 0 0 0 0 1 0 0 0 0 0 1 1 0 0 0 0 0 1\n",
      " 0 0 0 1 0 1 1 1 1 1 0 0 1 1 1 0 0 0 1 0 0 1 1 1 1 0 1 1 0 1 1 0 1 1 1 1 0\n",
      " 1 0 1 0 0 0 0 1 0 0 1 0 1 1 0 1 1 1 0 0 0 0 0 1 0 0 1 0 1 1 1 1 0 0 1 1 0\n",
      " 0 1 1 1 1 0 1 0 1 0 1 0 0 1 1 1 0 0 1 1 1 0 1 1 1 0 1 1 0 1 0 1 0 0 0 1 0\n",
      " 1 0 0 0 1 1 0 0 1 0 1 1 1 1 1 1 1 0 1 0 0 0 0 1 0 1 0 1 0 0 0 1 1 0 0 1 0\n",
      " 0 0 0 0 1 1 0 0 1 1 1 0 0 1 1 0 1 1 1 0 0 0 0 1 0 0 1 1 1 0 0 0 1 1 0 1 1\n",
      " 1 0 1 1 0 0 1 1 0 0 1 0 1 1 1 0 0 0 0 1 1 1 0 1 0 1 0 1 0 1 0 1 0 0 0 1 0\n",
      " 0 0 1 1 1 0 0 1 0 1 1 0 1 1 0 1 1 0 0 0 0 1 1 0 0 1 0 1 0 0 0 0 1 0 0 1 0\n",
      " 1 1 1 0 0 0 0 0 1 0 1 0 1 0 0 0 1 1 0 1 0 0 0 0 1 0 1 0 0 1 1 1 1 1 0 1 0\n",
      " 0 0 1 1 1 0 1 0 1 1 0 0 1 1 1 1 1 1 1 0 1 1 0 1 0 1 0 1 1 0 1 1 1 1 1 0 1\n",
      " 0 0 1 0 0 0 0 1 0 1 0 1 1 1 0 1 1 1 1 1 1 0 0 1 0 1 0 1 0 0 1 1 1 1 1 1 1\n",
      " 1 1 0 1 1 1 1 0 0 0 1 0 0 0 0 1 1 1 1 0 1 0 0 0 1 1 0 1 1 0 0 0 1 0 1 0 1\n",
      " 1 0 0 0 0 0 1 0 0 0 0 1 1 0 1 1 1 1 0 1 0 1 1 0 1 1 0 0 1 1 1 1 0 0 1 1 0\n",
      " 0 0 1 0 1 1 0 0 0 1 0 1 1 1 1 0 0 0 0 1 1 0 1 1 1 1 0 1 0 0 0 0 0 1 0 1 0\n",
      " 1 1 1 0 1 0 1 1 0 1 1 0 1 0 1 0 1 0 1 0 1 1 1 0 1 1 0 0 0 1 1 0 0 1 1 1 1\n",
      " 1 0 1 1 1 1 0 1 1 1 1 0 1 0 0 1 0 0 1 1 1 0 1 0 1 1 1 0 0 0 1 0 0 1 0 1 1\n",
      " 0 0 0 0 1 1 0 0 1 0 0 0 0 0 0 0 1 0 0 0 0 1 0 1 1 1 1 0 1 1 0 1 0 1 0 0 0\n",
      " 1 0 0 0 0 1 1 1 0 1 0 1 0 0 1 1 0 0 1 0 0 1 1 0 0 0 0 1 1 1 1 1 1 1 0 1 0\n",
      " 0 1 0 0 0 1 1 1 0 0 0 0 0 1 1 1 1 1 1 1 0 0 1 0 1 0 1 0 0 0 0 1 0 1 0 1 1\n",
      " 0 1 1 1 1 1 0 0 0 0 0 0 0 0 0 0 1 1 1 0 0 0 1 1 1 1 1 0 1 0 0 1 1 0 1 0 1\n",
      " 0 1 1 0 0 0 1 0 0 1 0 0 1 0 1 0 1 1 0 0 0 1 1 1 1 0 0 0 0 1 1 0 0 0 1 1 1\n",
      " 0]\n",
      "Predicted output :  [0 0 1 0 1 1 1 0 1 1 0 0 1 1 1 1 1 0 1 0 0 1 0 1 0 1 0 1 1 0 1 0 1 0 0 1 1\n",
      " 1 1 1 1 0 1 0 1 1 1 1 0 0 1 1 1 1 1 0 0 1 0 1 1 1 0 0 0 0 0 1 0 1 1 0 0 0\n",
      " 1 0 0 0 0 1 1 0 1 0 0 1 0 0 0 1 1 1 0 0 1 0 0 0 0 1 1 1 0 1 0 1 0 0 1 1 1\n",
      " 1 1 1 0 0 1 1 0 0 1 1 1 0 0 0 1 0 0 1 1 0 1 0 1 1 1 0 0 0 1 1 0 1 1 0 0 0\n",
      " 0 1 1 1 0 1 1 1 0 1 1 1 0 1 0 0 0 1 1 1 1 0 0 0 1 1 0 1 1 1 0 0 1 0 1 0 1\n",
      " 1 0 0 0 1 1 0 1 0 0 1 0 0 1 0 0 0 1 1 0 1 0 1 0 0 0 1 1 0 0 1 0 0 0 1 0 1\n",
      " 1 1 0 1 0 0 1 1 0 1 1 0 1 1 0 1 1 0 0 0 0 0 0 1 0 1 0 0 0 1 0 0 0 0 0 1 1\n",
      " 0 0 0 1 0 1 1 1 1 1 0 0 1 1 1 0 1 0 1 0 0 1 1 1 1 0 1 1 0 1 1 0 1 1 1 1 1\n",
      " 1 0 1 0 0 0 0 0 0 0 0 1 1 1 0 1 0 0 0 0 0 0 0 1 0 0 1 0 1 1 1 1 0 0 1 1 0\n",
      " 0 0 0 1 1 0 1 0 1 0 0 0 0 1 1 1 0 0 1 1 1 0 1 0 1 0 1 1 0 1 0 1 0 0 0 1 0\n",
      " 1 0 0 0 1 0 0 0 1 0 1 1 1 1 1 1 0 0 1 0 1 0 0 1 0 1 0 1 0 0 0 1 1 0 0 1 0\n",
      " 0 0 0 0 1 1 0 0 1 1 1 0 0 1 1 0 1 1 1 0 0 0 0 1 0 0 1 1 1 0 0 0 1 1 0 1 1\n",
      " 1 0 1 1 1 0 1 1 0 0 0 0 1 1 1 0 0 0 0 1 1 1 0 1 0 1 0 1 0 1 0 1 0 0 0 1 0\n",
      " 0 0 1 1 1 0 0 1 0 1 1 0 1 1 0 1 1 0 0 0 0 1 1 0 0 1 0 1 0 0 0 0 1 0 0 1 0\n",
      " 1 1 0 0 0 0 0 0 1 0 1 0 1 0 0 0 1 1 0 1 0 0 0 0 1 0 1 0 1 1 1 1 1 1 0 1 0\n",
      " 0 0 1 1 1 0 1 1 1 1 0 0 1 1 1 1 0 1 1 0 0 1 0 1 0 1 0 1 0 0 1 1 1 0 1 0 1\n",
      " 0 1 0 0 0 0 0 1 0 1 0 1 1 1 0 1 1 1 1 1 1 0 0 1 0 1 1 1 0 0 1 1 1 1 1 1 1\n",
      " 1 1 0 1 1 1 1 0 0 0 1 0 0 0 0 0 0 1 1 0 1 0 0 0 1 1 0 1 1 0 0 0 1 0 1 0 1\n",
      " 1 0 0 0 0 0 1 0 1 0 0 1 1 0 1 1 1 1 0 1 0 1 1 0 1 1 0 0 1 1 1 0 0 0 1 1 0\n",
      " 0 0 1 1 1 1 0 0 0 1 0 0 1 1 1 0 0 0 0 1 1 0 1 1 1 1 0 0 0 0 0 0 0 1 0 1 0\n",
      " 1 1 1 0 1 0 1 1 0 1 1 0 1 0 1 0 1 0 1 0 0 1 1 0 1 1 0 0 0 1 1 0 0 1 1 1 1\n",
      " 1 0 1 1 1 1 0 1 1 1 1 0 1 0 0 1 0 0 1 1 1 0 1 1 1 1 1 0 0 0 1 1 0 1 0 1 1\n",
      " 0 0 0 0 1 1 0 0 1 0 0 0 0 0 0 0 1 0 0 0 0 1 1 1 1 1 1 0 1 1 0 1 0 1 0 0 0\n",
      " 1 0 0 0 0 1 1 1 0 1 0 1 0 0 1 0 0 0 0 0 0 1 1 0 0 0 0 1 1 1 1 1 1 0 0 0 0\n",
      " 0 1 0 0 0 1 1 1 0 0 0 0 0 1 1 1 1 1 1 1 0 0 1 0 1 0 1 0 0 0 0 1 0 1 0 1 1\n",
      " 0 1 1 1 1 1 0 0 0 0 1 0 0 0 0 0 1 1 1 0 0 0 1 1 1 1 1 0 1 0 0 1 1 0 1 0 1\n",
      " 0 1 1 0 0 0 1 0 0 0 0 0 1 0 1 0 1 1 0 0 0 1 1 1 1 0 0 0 0 1 1 0 0 0 0 1 1\n",
      " 0]\n"
     ]
    }
   ],
   "source": [
    "# Exploring the input & output\n",
    "\n",
    "# Input: A two-dimensional array which contains all the features of the diabetes dataset\n",
    "print(\"Input : \", X)\n",
    "\n",
    "# Output: The ouput array is the prediction\n",
    "print(\"Expected output : \", y)\n",
    "print(\"Predicted output : \", y_pred)"
   ]
  },
  {
   "cell_type": "code",
   "execution_count": 62,
   "id": "5ebdf893",
   "metadata": {},
   "outputs": [
    {
     "name": "stdout",
     "output_type": "stream",
     "text": [
      "Test Accuracy Score: 0.934\n",
      "Precision: 0.934189452124936\n",
      "Recall: 0.934\n"
     ]
    }
   ],
   "source": [
    "# Calculating the Accuracy\n",
    "# Importing necessary packages\n",
    "from sklearn.metrics import mean_squared_error\n",
    "from sklearn.metrics import r2_score\n",
    "from sklearn.metrics import precision_score\n",
    "from sklearn.metrics import recall_score\n",
    "\n",
    "# Accuracy\n",
    "print(\"Test Accuracy Score:\", abc.score(X, y)) #Predicted correctly/Total values\n",
    "\n",
    "# Precision\n",
    "print(\"Precision:\",precision_score(y, y_pred, average='weighted')) #Proportion of positive identifications actually correct\n",
    "\n",
    "# Recall\n",
    "print(\"Recall:\",recall_score(y, y_pred, average='weighted')) # Proportion of actual positives was identified correctly"
   ]
  },
  {
   "cell_type": "markdown",
   "id": "0b641e49",
   "metadata": {},
   "source": [
    "## Gradient Boosting Regressor"
   ]
  },
  {
   "cell_type": "markdown",
   "id": "94596501",
   "metadata": {},
   "source": [
    "Gradient Boosting Regressor builds an additive model in a forward stage-wise fashion; it allows for the optimization of arbitrary differentiable loss functions. \n",
    "In each stage a regression tree is fit on the negative gradient of the given loss function."
   ]
  },
  {
   "cell_type": "code",
   "execution_count": 63,
   "id": "2995f8d0",
   "metadata": {},
   "outputs": [],
   "source": [
    "# Required packages\n",
    "from sklearn.datasets import make_regression\n",
    "from sklearn.ensemble import GradientBoostingRegressor # Gradient Boosting Regressor package\n",
    "from sklearn.model_selection import train_test_split"
   ]
  },
  {
   "cell_type": "code",
   "execution_count": 64,
   "id": "cfa0b35b",
   "metadata": {},
   "outputs": [],
   "source": [
    "# Creating the dataset using make_regression \n",
    "X, y = make_regression(n_samples=200, n_features=20, n_informative=10)\n",
    "X_train, X_test, y_train, y_test = train_test_split(X, y, test_size=0.3)"
   ]
  },
  {
   "cell_type": "code",
   "execution_count": 65,
   "id": "1d243f71",
   "metadata": {},
   "outputs": [],
   "source": [
    "# Syntax for creating a Gradient Boosting Regressor model:\n",
    "\n",
    "\n",
    "# GradientBoostingRegressor(*, loss='squared_error', learning_rate=0.1, n_estimators=100, subsample=1.0, \n",
    "# criterion='friedman_mse', min_samples_split=2, min_samples_leaf=1, min_weight_fraction_leaf=0.0, max_depth=3, \n",
    "# min_impurity_decrease=0.0, init=None, random_state=None, max_features=None, alpha=0.9, verbose=0, \n",
    "# max_leaf_nodes=None, warm_start=False, validation_fraction=0.1, n_iter_no_change=None, tol=0.0001,\n",
    "# ccp_alpha=0.0)\n",
    "\n",
    "# Link for explanation of terms : https://scikit-learn.org/stable/modules/generated/sklearn.ensemble.GradientBoostingRegressor.html\n",
    "\n",
    "# A simple model:\n",
    "gbr = GradientBoostingRegressor(n_estimators=200)\n",
    "gbr.fit(X_train, y_train)\n",
    "y_pred = gbr.predict(X_test)"
   ]
  },
  {
   "cell_type": "code",
   "execution_count": 66,
   "id": "2066ba1c",
   "metadata": {},
   "outputs": [
    {
     "name": "stdout",
     "output_type": "stream",
     "text": [
      "Input :  [[ 0.20938395 -1.91946831  1.00686641 ...  0.39883321  0.85005892\n",
      "  -0.6064173 ]\n",
      " [ 0.26318495 -2.63444751 -1.70318542 ... -0.40388068  1.57903486\n",
      "  -0.86491882]\n",
      " [-0.86539263  1.51377586 -0.14849648 ... -1.77104622  1.35575364\n",
      "  -0.21921743]\n",
      " ...\n",
      " [-1.51386147 -1.4852446   1.09001952 ...  0.66869029 -0.90124928\n",
      "  -0.48618153]\n",
      " [ 0.22880473  1.38263221 -0.85096857 ...  2.51666861 -0.24182494\n",
      "  -0.31798029]\n",
      " [-2.51224415 -0.56716089  0.01532202 ...  0.70271788  0.14684397\n",
      "  -0.49538507]]\n",
      "Expected output :  [  86.17448046 -115.5852083  -208.17377837   61.89248512 -209.42904848\n",
      "    7.09803784 -414.72295228  -18.72529784  -79.20493392  -86.7842835\n",
      "  270.73753895 -188.99910944 -212.87794573  -26.6655687  -148.58460792\n",
      " -121.59849341  197.85365492   63.31477489  -90.86240694  180.12555787\n",
      "   15.51986195   80.35419717  199.1178144   318.01704564   60.25224376\n",
      "   76.04923059  122.40770773 -100.18968332   29.20636836 -231.84748814\n",
      "  -56.83339684  173.99169873  569.32646023   -0.99237725  445.01225251\n",
      "   25.33545342  372.60739352  515.98618556 -131.43281522  -54.55873393\n",
      "  314.04793615  -72.423014   -118.62646156  195.51070028   45.54202999\n",
      "   85.78076313  187.47601331 -308.8878861   -31.1612429   122.38306755\n",
      "  -20.95532135  179.18799416   48.37904862 -207.52334675  227.81717472\n",
      "   30.09386663  -86.59099595 -145.99845357   70.90968559  166.961482  ]\n",
      "Predicted output :  [ 124.71613543  -57.66953588 -109.55335495   28.28894838 -195.54947193\n",
      "   47.38467227 -225.76217309  -51.01926823  -33.98680634  -50.88913842\n",
      "  204.2119836  -138.53244097   53.35156847  -35.76313705   56.88322935\n",
      "   -2.47778284  146.01452102  114.69984182  -44.45770303  133.15632963\n",
      "    6.36777273   41.95890588  181.03911562  152.45926424  -27.08210471\n",
      "   57.73772489   49.96979263 -109.08180598   43.70039305 -104.79868375\n",
      "  -51.41876588   90.32957177  386.6396474    21.25318888  307.35278695\n",
      "    1.90747009  247.61384601  367.57731662 -110.2711151   -47.15568587\n",
      "  182.21527015 -119.34258878   46.73445846  118.77893356    8.97226916\n",
      "    8.63541657  178.14833904 -163.32307144 -188.24190734  158.3721252\n",
      "  -27.87763092  155.64239468  -58.98557834 -207.6311855   226.27316049\n",
      "  -14.67609425    4.87098013  104.95968047   90.57403862   92.74083228]\n"
     ]
    }
   ],
   "source": [
    "# Exploring the input & output\n",
    "\n",
    "# Input: A two-dimensional array which contains all the features of the diabetes dataset\n",
    "print(\"Input : \", X_test)\n",
    "\n",
    "# Output: The ouput array is the prediction\n",
    "print(\"Expected output : \", y_test)\n",
    "print(\"Predicted output : \", y_pred)"
   ]
  },
  {
   "cell_type": "code",
   "execution_count": 67,
   "id": "b3e937b3",
   "metadata": {},
   "outputs": [
    {
     "name": "stdout",
     "output_type": "stream",
     "text": [
      "Mean Squared Error: 9297.126457381652\n",
      "Root Mean Squared Error: 96.42160783445613\n",
      "R^2 Score: 0.7494263701695238\n"
     ]
    }
   ],
   "source": [
    "# Calculating the Accuracy\n",
    "# Accuracy of a linear model can't be calculated, the accuracy is predicted using error\n",
    "from sklearn.metrics import mean_squared_error\n",
    "from sklearn.metrics import r2_score\n",
    "\n",
    "# Mean Squared Error\n",
    "print(\"Mean Squared Error:\",mean_squared_error(y_test, y_pred)) # tells you how close a regression line is to a set of points\n",
    "# squaring is necessary to remove any negative signs\n",
    "\n",
    "# Root Mean Squared Error\n",
    "print(\"Root Mean Squared Error:\", mean_squared_error(y_test, y_pred, squared=False))\n",
    "\n",
    "# R2 Score\n",
    "print(\"R^2 Score:\", r2_score(y_test,y_pred)) # correlation between actual and predicted value"
   ]
  },
  {
   "cell_type": "markdown",
   "id": "94099634",
   "metadata": {},
   "source": [
    "## Ada Boost Regressor"
   ]
  },
  {
   "cell_type": "markdown",
   "id": "fbe7a8dd",
   "metadata": {},
   "source": [
    "Ada Boost Regressor begins the process of regression by fitting a regressor on the original dataset and then fits additional copies of the regressor on the same dataset but where the weights of instances are adjusted according to the error of the current prediction"
   ]
  },
  {
   "cell_type": "code",
   "execution_count": 68,
   "id": "6e183e0b",
   "metadata": {},
   "outputs": [],
   "source": [
    "# Required packages\n",
    "from sklearn.datasets import make_regression\n",
    "from sklearn.ensemble import AdaBoostRegressor # Ada Boost Regressor package\n",
    "from sklearn.model_selection import train_test_split"
   ]
  },
  {
   "cell_type": "code",
   "execution_count": 69,
   "id": "a57e91ee",
   "metadata": {},
   "outputs": [],
   "source": [
    "# Creating a dataset using make_regression\n",
    "X, y = make_regression(n_samples=200, n_features=20, n_informative=10)\n",
    "X_train, X_test, y_train, y_test = train_test_split(X, y, test_size=0.3)"
   ]
  },
  {
   "cell_type": "code",
   "execution_count": 70,
   "id": "0173fc02",
   "metadata": {},
   "outputs": [],
   "source": [
    "# Syntax for creating a Ada Boost Regressor:\n",
    "\n",
    "\n",
    "# AdaBoostRegressor(base_estimator=None, *, n_estimators=50, learning_rate=1.0, loss='linear', random_state=None)\n",
    "\n",
    "# Link for explanation of terms : https://scikit-learn.org/stable/modules/generated/sklearn.ensemble.AdaBoostRegressor.html\n",
    "\n",
    "# A simple model:\n",
    "abr = AdaBoostRegressor(n_estimators=100)\n",
    "abr.fit(X_train, y_train)\n",
    "y_pred = abr.predict(X_test)"
   ]
  },
  {
   "cell_type": "code",
   "execution_count": 71,
   "id": "85b64d04",
   "metadata": {},
   "outputs": [
    {
     "name": "stdout",
     "output_type": "stream",
     "text": [
      "Input :  [[ 1.04322748 -0.63788272  0.84404888 ...  0.47662028  1.26651794\n",
      "  -1.17431261]\n",
      " [-0.2002678  -0.34823967  1.84089389 ... -1.22856436 -2.05016515\n",
      "   0.59936938]\n",
      " [-0.16695027  0.20976749 -1.07111159 ...  0.38289669  1.67245268\n",
      "   0.40701702]\n",
      " ...\n",
      " [ 1.34456474  0.38275498  0.91176006 ...  0.47514798 -0.54106214\n",
      "   0.46107909]\n",
      " [ 1.39691775 -0.23217246  0.16241508 ...  1.21640838  0.29565836\n",
      "   0.9238309 ]\n",
      " [-1.09390948 -0.21129872 -0.26817559 ...  1.33500977  0.18397043\n",
      "   1.61904912]]\n",
      "Expected output :  [-190.25949752  121.01816113   13.06554109  162.98837839   60.1575865\n",
      "  -21.96422659  -84.17794783  -95.35480324  -20.74649143  253.81302488\n",
      " -426.58287798  -91.68302779  -60.68260066  -12.20577191  619.52293188\n",
      "  -24.09712555  -51.43761142  333.1513291   150.47696197   54.32965567\n",
      "  119.03643537 -110.27311059 -217.22999037 -184.80722862  -72.51351479\n",
      " -101.73229589   -0.81639352 -269.87288583    6.08474731  -74.65461986\n",
      "  106.59582767   37.80557151   81.09783935   86.05200374  121.28187085\n",
      "  107.06974575 -332.68876965  117.65738105  268.51455844   75.4711934\n",
      "  -59.75531335  330.55652305 -405.15349955 -176.11711604   58.89594003\n",
      "   -2.36187062   51.09776016 -128.92471637 -330.34498588  -75.0475809\n",
      " -430.45060154 -242.41090897  -95.80000623  117.0356161   -30.66241976\n",
      "  211.30258469  104.65506616  258.10962829   77.16828745   21.94249483]\n",
      "Predicted output :  [  24.11143677    4.35241879   -3.494041    105.80549352   44.73839546\n",
      "   39.34246251  -15.33019749  -35.6796213   -87.91142504   91.46507322\n",
      " -169.65836765  -47.69139413  -27.03590648    3.54777673  238.71646834\n",
      "   -3.01420403  -34.37758861  132.6910977     3.54777673  131.091553\n",
      "   64.20019605  -99.51888891 -122.95492606 -164.23204864  -41.13851676\n",
      "  -54.82559439   29.99326665 -131.07407535   39.95892862   11.55816521\n",
      "   45.68025215  100.3931232    44.73839546   39.95892862   41.73005085\n",
      "  -40.91129495 -140.74856598  160.13849908  128.93185866   45.68025215\n",
      "  -99.51888891   90.3733542  -128.99132672 -122.95492606  -16.89019406\n",
      "  -16.89019406  -15.33019749  -96.31111653 -114.6847364  -114.6847364\n",
      " -132.33216205 -104.88599032  -35.6796213   -40.20090164  -57.33654514\n",
      "  190.56507623  -12.8658078   180.04714738  168.6189735   -16.89019406]\n"
     ]
    }
   ],
   "source": [
    "# Exploring the input & output\n",
    "\n",
    "# Input: A two-dimensional array which contains all the features of the diabetes dataset\n",
    "print(\"Input : \", X_test)\n",
    "\n",
    "# Output: The ouput array is the prediction\n",
    "print(\"Expected output : \", y_test)\n",
    "print(\"Predicted output : \", y_pred)"
   ]
  },
  {
   "cell_type": "code",
   "execution_count": 72,
   "id": "3ed7aea4",
   "metadata": {},
   "outputs": [
    {
     "name": "stdout",
     "output_type": "stream",
     "text": [
      "Mean Squared Error: 14944.35255117292\n",
      "Root Mean Squared Error: 122.24709628933081\n",
      "R^2 Score: 0.5883247741987142\n"
     ]
    }
   ],
   "source": [
    "# Calculating the Accuracy\n",
    "# Accuracy of a linear model can't be calculated, the accuracy is predicted using error\n",
    "from sklearn.metrics import mean_squared_error\n",
    "from sklearn.metrics import r2_score\n",
    "\n",
    "# Mean Squared Error\n",
    "print(\"Mean Squared Error:\",mean_squared_error(y_test, y_pred)) # tells you how close a regression line is to a set of points\n",
    "# squaring is necessary to remove any negative signs\n",
    "\n",
    "# Root Mean Squared Error\n",
    "print(\"Root Mean Squared Error:\", mean_squared_error(y_test, y_pred, squared=False))\n",
    "\n",
    "# R2 Score\n",
    "print(\"R^2 Score:\", r2_score(y_test,y_pred)) # correlation between actual and predicted value"
   ]
  },
  {
   "cell_type": "markdown",
   "id": "5a41c229",
   "metadata": {},
   "source": [
    "## Stochastic Gradient Descent Classifier Algorithm"
   ]
  },
  {
   "cell_type": "markdown",
   "id": "74b31449",
   "metadata": {},
   "source": [
    "Stochastic Gradient Descent Algorithm fits linear classifiers and regressors under convex loss functions such as (linear) Support Vector Machines and Logistic Regression. It works very well with large scale datasets."
   ]
  },
  {
   "cell_type": "code",
   "execution_count": 73,
   "id": "8b69ec16",
   "metadata": {},
   "outputs": [],
   "source": [
    "# Required packages\n",
    "from sklearn.datasets import make_classification\n",
    "from sklearn.model_selection import train_test_split\n",
    "from sklearn.linear_model import SGDClassifier # Stochastic Gradient Descent Classifier package"
   ]
  },
  {
   "cell_type": "code",
   "execution_count": 74,
   "id": "fb79be8e",
   "metadata": {},
   "outputs": [],
   "source": [
    "# Creating a dataset using make_classification\n",
    "X, y = make_classification(n_samples=200, n_features=20, n_informative=10)\n",
    "X_train, X_test, y_train, y_test = train_test_split(X, y, test_size=0.3)"
   ]
  },
  {
   "cell_type": "code",
   "execution_count": 75,
   "id": "6a868aaf",
   "metadata": {},
   "outputs": [],
   "source": [
    "sgdc = SGDClassifier(loss=\"hinge\", penalty=\"l2\", max_iter=5)\n",
    "sgdc.fit(X_train, y_train)\n",
    "y_pred = sgdc.predict(X_test)"
   ]
  },
  {
   "cell_type": "code",
   "execution_count": 76,
   "id": "c5cea8c0",
   "metadata": {},
   "outputs": [
    {
     "name": "stdout",
     "output_type": "stream",
     "text": [
      "Input :  [[ 3.20748736  0.74010665  0.66093495 ... -0.04837441  1.07275038\n",
      "   0.86455755]\n",
      " [-0.69425365  1.14578681 -2.59178086 ...  0.12345439 -4.60467727\n",
      "  -1.34669705]\n",
      " [-0.54299192  0.1474609  -0.73994392 ... -0.22545232 -0.40366363\n",
      "  -1.55706143]\n",
      " ...\n",
      " [-1.25299375  0.52744578 -0.02753089 ... -0.40888787 -2.60532678\n",
      "  -0.95061551]\n",
      " [ 2.01452919 -1.2951409   1.21936326 ... -0.10903365  7.39494288\n",
      "  -1.38096905]\n",
      " [ 1.44070484 -0.01714545 -0.44828279 ... -1.93645706  0.8444392\n",
      "  -0.01244966]]\n",
      "Expected output :  [1 1 1 1 0 0 1 1 1 0 1 1 1 1 0 1 1 0 0 1 0 0 0 1 1 1 1 0 0 1 1 1 0 1 0 0 1\n",
      " 1 0 0 1 0 1 1 0 0 0 0 1 0 1 1 1 1 1 1 1 0 0 1]\n",
      "Predicted output :  [1 1 0 1 0 0 0 1 1 0 1 1 0 1 1 0 1 1 1 0 0 0 0 0 1 0 0 0 0 0 0 1 1 1 0 0 0\n",
      " 1 0 1 1 0 1 0 0 0 0 0 0 1 0 0 0 1 1 0 1 0 0 1]\n"
     ]
    }
   ],
   "source": [
    "# Exploring the input & output\n",
    "\n",
    "# Input: A two-dimensional array which contains all the features of the diabetes dataset\n",
    "print(\"Input : \", X_test)\n",
    "\n",
    "# Output: The ouput array is the prediction\n",
    "print(\"Expected output : \", y_test)\n",
    "print(\"Predicted output : \", y_pred)"
   ]
  },
  {
   "cell_type": "code",
   "execution_count": 77,
   "id": "3d3d87dc",
   "metadata": {},
   "outputs": [
    {
     "name": "stdout",
     "output_type": "stream",
     "text": [
      "Test Accuracy Score: 0.6166666666666667\n",
      "Precision: 0.6617142857142857\n",
      "Recall: 0.6166666666666667\n"
     ]
    }
   ],
   "source": [
    "# Calculating the Accuracy\n",
    "# Importing necessary packages\n",
    "from sklearn.metrics import mean_squared_error\n",
    "from sklearn.metrics import r2_score\n",
    "from sklearn.metrics import precision_score\n",
    "from sklearn.metrics import recall_score\n",
    "\n",
    "# Accuracy\n",
    "print(\"Test Accuracy Score:\", sgdc.score(X_test, y_test)) #Predicted correctly/Total values\n",
    "\n",
    "# Precision\n",
    "print(\"Precision:\",precision_score(y_test, y_pred, average='weighted')) #Proportion of positive identifications actually correct\n",
    "\n",
    "# Recall\n",
    "print(\"Recall:\",recall_score(y_test, y_pred, average='weighted')) # Proportion of actual positives was identified correctly"
   ]
  },
  {
   "cell_type": "code",
   "execution_count": null,
   "id": "3ed46ea0",
   "metadata": {},
   "outputs": [],
   "source": []
  }
 ],
 "metadata": {
  "kernelspec": {
   "display_name": "Python 3 (ipykernel)",
   "language": "python",
   "name": "python3"
  },
  "language_info": {
   "codemirror_mode": {
    "name": "ipython",
    "version": 3
   },
   "file_extension": ".py",
   "mimetype": "text/x-python",
   "name": "python",
   "nbconvert_exporter": "python",
   "pygments_lexer": "ipython3",
   "version": "3.9.7"
  }
 },
 "nbformat": 4,
 "nbformat_minor": 5
}
