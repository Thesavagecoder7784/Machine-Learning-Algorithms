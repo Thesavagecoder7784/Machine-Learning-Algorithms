{
 "cells": [
  {
   "cell_type": "markdown",
   "id": "3e3ab754",
   "metadata": {},
   "source": [
    "# Machine Learning Algorithms"
   ]
  },
  {
   "cell_type": "markdown",
   "id": "8463450d",
   "metadata": {},
   "source": [
    "## Linear Regression"
   ]
  },
  {
   "cell_type": "markdown",
   "id": "6e2061aa",
   "metadata": {},
   "source": [
    "Linear Regression is a linear mahcine learning model that assumes a linear relationship between the input variables (x) and the single output variable (y). It uses this information to predict the value of y based on the value of x."
   ]
  },
  {
   "cell_type": "code",
   "execution_count": 5,
   "id": "14dec42f",
   "metadata": {},
   "outputs": [],
   "source": [
    "#Required packages\n",
    "from sklearn.linear_model import LinearRegression #Linear regression package\n",
    "from sklearn.model_selection import train_test_split"
   ]
  },
  {
   "cell_type": "code",
   "execution_count": 6,
   "id": "85b5aedd",
   "metadata": {},
   "outputs": [],
   "source": [
    "#Importing a dataset for linear regression\n",
    "from sklearn.datasets import load_boston\n",
    "boston = load_boston()\n",
    "x = boston.data\n",
    "y = boston.target\n",
    "#Split the data into training and testing datasets\n",
    "x_train, x_test, y_train, y_test = train_test_split(x, y, test_size = 0.3, random_state = 0)"
   ]
  },
  {
   "cell_type": "code",
   "execution_count": 7,
   "id": "f8ef0529",
   "metadata": {},
   "outputs": [],
   "source": [
    "#Syntax for creating a Linear Regression model\n",
    "\n",
    "# LinearRegression(*, fit_intercept=True, copy_X=True, n_jobs=None, positive=False)\n",
    "\n",
    "# fit_intercept - calculate the y-intercept of the model\n",
    "# copy_X - Changes the value of x entered in the model\n",
    "# positive - forces the coefficients to be positive\n",
    "\n",
    "#Simple model\n",
    "lr = LinearRegression()\n",
    "lr.fit(x_train,y_train)\n",
    "y_pred = lr.predict(x_test)"
   ]
  },
  {
   "cell_type": "code",
   "execution_count": 38,
   "id": "5dd211c7",
   "metadata": {},
   "outputs": [
    {
     "name": "stdout",
     "output_type": "stream",
     "text": [
      "Mean Squared Error: 0.03508771929824561\n",
      "Root Mean Squared Error: 0.1873171623163388\n",
      "R^2 Score: 0.8535122786978869\n"
     ]
    }
   ],
   "source": [
    "# Calculating the Accuracy\n",
    "# Accuracy of a linear model can't be calculated, the accuracy is predicted using error\n",
    "from sklearn.metrics import mean_squared_error\n",
    "from sklearn.metrics import r2_score\n",
    "\n",
    "# Mean Squared Error\n",
    "print(\"Mean Squared Error:\",mean_squared_error(y_test, y_pred)) # tells you how close a regression line is to a set of points\n",
    "# squaring is necessary to remove any negative signs\n",
    "\n",
    "# Root Mean Squared Error\n",
    "print(\"Root Mean Squared Error:\", mean_squared_error(y_test, y_pred, squared=False))\n",
    "\n",
    "# R2 Score\n",
    "print(\"R^2 Score:\", r2_score(y_test,y_pred)) # correlation between actual and predicted value"
   ]
  },
  {
   "cell_type": "markdown",
   "id": "33d53dfc",
   "metadata": {},
   "source": [
    "## Logistic Regression"
   ]
  },
  {
   "cell_type": "markdown",
   "id": "33dc3168",
   "metadata": {},
   "source": [
    "Logistic regression is used to describe data and to explain the relationship between one dependent binary variable and one or more independent variables"
   ]
  },
  {
   "cell_type": "code",
   "execution_count": 14,
   "id": "cd1515bc",
   "metadata": {},
   "outputs": [],
   "source": [
    "#Required packages\n",
    "from sklearn.linear_model import LogisticRegression #Logistic regression package\n",
    "from sklearn.model_selection import train_test_split"
   ]
  },
  {
   "cell_type": "code",
   "execution_count": 15,
   "id": "cbfe7ead",
   "metadata": {},
   "outputs": [],
   "source": [
    "#Importing a dataset for logistic regression\n",
    "from sklearn.datasets import load_breast_cancer\n",
    "cancer = load_breast_cancer()\n",
    "X = cancer.data\n",
    "y = cancer.target\n",
    "#Split the data into training and testing datasets\n",
    "X_train, X_test, y_train, y_test = train_test_split(X, y, test_size=0.3)"
   ]
  },
  {
   "cell_type": "code",
   "execution_count": 34,
   "id": "88f46c37",
   "metadata": {},
   "outputs": [],
   "source": [
    "#Syntax for creating a Logistic Regression model\n",
    "\n",
    "# LogisticRegression(penalty='l2', *, dual=False, tol=0.0001, C=1.0, fit_intercept=True, \n",
    "# intercept_scaling=1, class_weight=None, random_state=None, solver='lbfgs', max_iter=100, \n",
    "# multi_class='auto', verbose=0, warm_start=False, n_jobs=None, l1_ratio=None)\n",
    "\n",
    "# Link for explanation of terms : https://scikit-learn.org/stable/modules/generated/sklearn.linear_model.LogisticRegression.html\n",
    "\n",
    "#Simple model\n",
    "logreg = LogisticRegression(max_iter=3000) \n",
    "logreg.fit(X_train,y_train)\n",
    "y_pred = logreg.predict(X_test)"
   ]
  },
  {
   "cell_type": "code",
   "execution_count": 36,
   "id": "6b5976ee",
   "metadata": {},
   "outputs": [
    {
     "name": "stdout",
     "output_type": "stream",
     "text": [
      "Test Accuracy Score: 0.9649122807017544\n",
      "Mean Squared Error: 0.03508771929824561\n",
      "Root Mean Squared Error: 0.1873171623163388\n",
      "R^2 value 0.8535122786978869\n",
      "Precision: 0.9619047619047619\n",
      "Recall: 0.9805825242718447\n"
     ]
    }
   ],
   "source": [
    "# Calculating the Accuracy\n",
    "# Importing necessary packages\n",
    "from sklearn.metrics import mean_squared_error\n",
    "from sklearn.metrics import r2_score\n",
    "from sklearn.metrics import precision_score\n",
    "from sklearn.metrics import recall_score\n",
    "\n",
    "# Accuracy\n",
    "print(\"Test Accuracy Score:\", logreg.score(X_test, y_test)) #Predicted correctly/Total values\n",
    "\n",
    "# Mean Squared Error\n",
    "print(\"Mean Squared Error:\", mean_squared_error(y_test, y_pred))# tells you how close a regression line is to a set of points\n",
    "\n",
    "# Root Mean Squared Error\n",
    "print(\"Root Mean Squared Error:\", mean_squared_error(y_test, y_pred, squared=False)) \n",
    "\n",
    "# R2 Score\n",
    "print(\"R^2 value\", r2_score(y_test,y_pred)) # correlation between actual and predicted value\n",
    "\n",
    "# Precision\n",
    "print(\"Precision:\",precision_score(y_test, y_pred)) #Proportion of positive identifications actually correct\n",
    "\n",
    "# Recall\n",
    "print(\"Recall:\",recall_score(y_test, y_pred)) # Proportion of actual positives was identified correctly"
   ]
  },
  {
   "cell_type": "code",
   "execution_count": null,
   "id": "18bc2307",
   "metadata": {},
   "outputs": [],
   "source": []
  }
 ],
 "metadata": {
  "kernelspec": {
   "display_name": "Python 3 (ipykernel)",
   "language": "python",
   "name": "python3"
  },
  "language_info": {
   "codemirror_mode": {
    "name": "ipython",
    "version": 3
   },
   "file_extension": ".py",
   "mimetype": "text/x-python",
   "name": "python",
   "nbconvert_exporter": "python",
   "pygments_lexer": "ipython3",
   "version": "3.9.7"
  }
 },
 "nbformat": 4,
 "nbformat_minor": 5
}
