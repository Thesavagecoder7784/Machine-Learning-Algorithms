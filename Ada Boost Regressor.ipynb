{
 "cells": [
  {
   "cell_type": "code",
   "execution_count": 1,
   "id": "9d400719",
   "metadata": {},
   "outputs": [],
   "source": [
    "from sklearn.ensemble import AdaBoostRegressor\n",
    "from sklearn.model_selection import train_test_split\n",
    "import pandas as pd\n",
    "import numpy as np \n",
    "import matplotlib.pyplot as plt\n",
    "import seaborn as sns \n",
    "plt.rcParams['figure.figsize'] = [30,15]"
   ]
  },
  {
   "cell_type": "code",
   "execution_count": 2,
   "id": "efa84834",
   "metadata": {},
   "outputs": [
    {
     "data": {
      "text/html": [
       "<div>\n",
       "<style scoped>\n",
       "    .dataframe tbody tr th:only-of-type {\n",
       "        vertical-align: middle;\n",
       "    }\n",
       "\n",
       "    .dataframe tbody tr th {\n",
       "        vertical-align: top;\n",
       "    }\n",
       "\n",
       "    .dataframe thead th {\n",
       "        text-align: right;\n",
       "    }\n",
       "</style>\n",
       "<table border=\"1\" class=\"dataframe\">\n",
       "  <thead>\n",
       "    <tr style=\"text-align: right;\">\n",
       "      <th></th>\n",
       "      <th>date</th>\n",
       "      <th>quarter</th>\n",
       "      <th>department</th>\n",
       "      <th>day</th>\n",
       "      <th>team</th>\n",
       "      <th>targeted_productivity</th>\n",
       "      <th>smv</th>\n",
       "      <th>wip</th>\n",
       "      <th>over_time</th>\n",
       "      <th>incentive</th>\n",
       "      <th>idle_time</th>\n",
       "      <th>idle_men</th>\n",
       "      <th>no_of_style_change</th>\n",
       "      <th>no_of_workers</th>\n",
       "      <th>actual_productivity</th>\n",
       "    </tr>\n",
       "  </thead>\n",
       "  <tbody>\n",
       "    <tr>\n",
       "      <th>0</th>\n",
       "      <td>1/1/2015</td>\n",
       "      <td>Quarter1</td>\n",
       "      <td>sweing</td>\n",
       "      <td>Thursday</td>\n",
       "      <td>8</td>\n",
       "      <td>0.8</td>\n",
       "      <td>26.16</td>\n",
       "      <td>1108.0</td>\n",
       "      <td>7080</td>\n",
       "      <td>98</td>\n",
       "      <td>0.0</td>\n",
       "      <td>0</td>\n",
       "      <td>0</td>\n",
       "      <td>59.0</td>\n",
       "      <td>0.940725</td>\n",
       "    </tr>\n",
       "    <tr>\n",
       "      <th>2</th>\n",
       "      <td>1/1/2015</td>\n",
       "      <td>Quarter1</td>\n",
       "      <td>sweing</td>\n",
       "      <td>Thursday</td>\n",
       "      <td>11</td>\n",
       "      <td>0.8</td>\n",
       "      <td>11.41</td>\n",
       "      <td>968.0</td>\n",
       "      <td>3660</td>\n",
       "      <td>50</td>\n",
       "      <td>0.0</td>\n",
       "      <td>0</td>\n",
       "      <td>0</td>\n",
       "      <td>30.5</td>\n",
       "      <td>0.800570</td>\n",
       "    </tr>\n",
       "    <tr>\n",
       "      <th>3</th>\n",
       "      <td>1/1/2015</td>\n",
       "      <td>Quarter1</td>\n",
       "      <td>sweing</td>\n",
       "      <td>Thursday</td>\n",
       "      <td>12</td>\n",
       "      <td>0.8</td>\n",
       "      <td>11.41</td>\n",
       "      <td>968.0</td>\n",
       "      <td>3660</td>\n",
       "      <td>50</td>\n",
       "      <td>0.0</td>\n",
       "      <td>0</td>\n",
       "      <td>0</td>\n",
       "      <td>30.5</td>\n",
       "      <td>0.800570</td>\n",
       "    </tr>\n",
       "    <tr>\n",
       "      <th>4</th>\n",
       "      <td>1/1/2015</td>\n",
       "      <td>Quarter1</td>\n",
       "      <td>sweing</td>\n",
       "      <td>Thursday</td>\n",
       "      <td>6</td>\n",
       "      <td>0.8</td>\n",
       "      <td>25.90</td>\n",
       "      <td>1170.0</td>\n",
       "      <td>1920</td>\n",
       "      <td>50</td>\n",
       "      <td>0.0</td>\n",
       "      <td>0</td>\n",
       "      <td>0</td>\n",
       "      <td>56.0</td>\n",
       "      <td>0.800382</td>\n",
       "    </tr>\n",
       "    <tr>\n",
       "      <th>5</th>\n",
       "      <td>1/1/2015</td>\n",
       "      <td>Quarter1</td>\n",
       "      <td>sweing</td>\n",
       "      <td>Thursday</td>\n",
       "      <td>7</td>\n",
       "      <td>0.8</td>\n",
       "      <td>25.90</td>\n",
       "      <td>984.0</td>\n",
       "      <td>6720</td>\n",
       "      <td>38</td>\n",
       "      <td>0.0</td>\n",
       "      <td>0</td>\n",
       "      <td>0</td>\n",
       "      <td>56.0</td>\n",
       "      <td>0.800125</td>\n",
       "    </tr>\n",
       "  </tbody>\n",
       "</table>\n",
       "</div>"
      ],
      "text/plain": [
       "       date   quarter department       day  team  targeted_productivity  \\\n",
       "0  1/1/2015  Quarter1     sweing  Thursday     8                    0.8   \n",
       "2  1/1/2015  Quarter1     sweing  Thursday    11                    0.8   \n",
       "3  1/1/2015  Quarter1     sweing  Thursday    12                    0.8   \n",
       "4  1/1/2015  Quarter1     sweing  Thursday     6                    0.8   \n",
       "5  1/1/2015  Quarter1     sweing  Thursday     7                    0.8   \n",
       "\n",
       "     smv     wip  over_time  incentive  idle_time  idle_men  \\\n",
       "0  26.16  1108.0       7080         98        0.0         0   \n",
       "2  11.41   968.0       3660         50        0.0         0   \n",
       "3  11.41   968.0       3660         50        0.0         0   \n",
       "4  25.90  1170.0       1920         50        0.0         0   \n",
       "5  25.90   984.0       6720         38        0.0         0   \n",
       "\n",
       "   no_of_style_change  no_of_workers  actual_productivity  \n",
       "0                   0           59.0             0.940725  \n",
       "2                   0           30.5             0.800570  \n",
       "3                   0           30.5             0.800570  \n",
       "4                   0           56.0             0.800382  \n",
       "5                   0           56.0             0.800125  "
      ]
     },
     "execution_count": 2,
     "metadata": {},
     "output_type": "execute_result"
    }
   ],
   "source": [
    "df = pd.read_csv('garments_worker_productivity.csv')\n",
    "df = df.dropna()\n",
    "df.head()"
   ]
  },
  {
   "cell_type": "code",
   "execution_count": 3,
   "id": "5f609e04",
   "metadata": {},
   "outputs": [],
   "source": [
    "del df['date']"
   ]
  },
  {
   "cell_type": "code",
   "execution_count": 4,
   "id": "d682e647",
   "metadata": {},
   "outputs": [
    {
     "name": "stdout",
     "output_type": "stream",
     "text": [
      "<class 'pandas.core.frame.DataFrame'>\n",
      "Int64Index: 691 entries, 0 to 1191\n",
      "Data columns (total 14 columns):\n",
      " #   Column                 Non-Null Count  Dtype  \n",
      "---  ------                 --------------  -----  \n",
      " 0   quarter                691 non-null    object \n",
      " 1   department             691 non-null    object \n",
      " 2   day                    691 non-null    object \n",
      " 3   team                   691 non-null    int64  \n",
      " 4   targeted_productivity  691 non-null    float64\n",
      " 5   smv                    691 non-null    float64\n",
      " 6   wip                    691 non-null    float64\n",
      " 7   over_time              691 non-null    int64  \n",
      " 8   incentive              691 non-null    int64  \n",
      " 9   idle_time              691 non-null    float64\n",
      " 10  idle_men               691 non-null    int64  \n",
      " 11  no_of_style_change     691 non-null    int64  \n",
      " 12  no_of_workers          691 non-null    float64\n",
      " 13  actual_productivity    691 non-null    float64\n",
      "dtypes: float64(6), int64(5), object(3)\n",
      "memory usage: 81.0+ KB\n"
     ]
    }
   ],
   "source": [
    "df.info()"
   ]
  },
  {
   "cell_type": "code",
   "execution_count": 5,
   "id": "20022d9b",
   "metadata": {},
   "outputs": [],
   "source": [
    "# One hot encoding the dataframe\n",
    "# One hot encoding is the process of converting the categorical data variables to be provided to machine and deep learning algorithms which in turn improve predictions as well as classification accuracy of a model\n",
    "data = pd.get_dummies(df, columns =['quarter','department','day'])"
   ]
  },
  {
   "cell_type": "code",
   "execution_count": 6,
   "id": "74729d98",
   "metadata": {},
   "outputs": [],
   "source": [
    "X = data.loc[:, data.columns != 'actual_productivity']\n",
    "y = data['actual_productivity']\n",
    "X_train, X_test, y_train, y_test = train_test_split(X, y, test_size=0.3)"
   ]
  },
  {
   "cell_type": "code",
   "execution_count": 7,
   "id": "aa4d0151",
   "metadata": {},
   "outputs": [],
   "source": [
    "abr = AdaBoostRegressor(n_estimators=100)\n",
    "abr.fit(X_train, y_train)\n",
    "y_pred = abr.predict(X_test)"
   ]
  },
  {
   "cell_type": "code",
   "execution_count": 8,
   "id": "82d44a14",
   "metadata": {},
   "outputs": [
    {
     "name": "stdout",
     "output_type": "stream",
     "text": [
      "Mean Squared Error: 0.007525352111904203\n",
      "Root Mean Squared Error: 0.08674878738002165\n",
      "R^2 Score: 0.728028051948955\n"
     ]
    }
   ],
   "source": [
    "# Calculating the Accuracy\n",
    "# Accuracy of a linear model can't be calculated, the accuracy is predicted using error\n",
    "from sklearn.metrics import mean_squared_error\n",
    "from sklearn.metrics import r2_score\n",
    "\n",
    "# Mean Squared Error\n",
    "print(\"Mean Squared Error:\",mean_squared_error(y_test, y_pred)) # tells you how close a regression line is to a set of points\n",
    "# squaring is necessary to remove any negative signs\n",
    "\n",
    "# Root Mean Squared Error\n",
    "print(\"Root Mean Squared Error:\", mean_squared_error(y_test, y_pred, squared=False))\n",
    "\n",
    "# R2 Score\n",
    "print(\"R^2 Score:\", r2_score(y_test,y_pred)) # correlation between actual and predicted value"
   ]
  },
  {
   "cell_type": "code",
   "execution_count": null,
   "id": "8155c135",
   "metadata": {},
   "outputs": [],
   "source": []
  }
 ],
 "metadata": {
  "kernelspec": {
   "display_name": "Python 3 (ipykernel)",
   "language": "python",
   "name": "python3"
  },
  "language_info": {
   "codemirror_mode": {
    "name": "ipython",
    "version": 3
   },
   "file_extension": ".py",
   "mimetype": "text/x-python",
   "name": "python",
   "nbconvert_exporter": "python",
   "pygments_lexer": "ipython3",
   "version": "3.9.7"
  }
 },
 "nbformat": 4,
 "nbformat_minor": 5
}
